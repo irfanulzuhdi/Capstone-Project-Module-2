{
 "cells": [
  {
   "cell_type": "markdown",
   "metadata": {},
   "source": [
    "# **CAPSTONE PROJECT MODULE 2**\n",
    "\n",
    "### Irfanul Zuhdi.N\n",
    "***"
   ]
  },
  {
   "cell_type": "markdown",
   "metadata": {},
   "source": [
    "# **DATA UNDERSTANDING**\n",
    "\n",
    "\n",
    "### **Introduction :**\n",
    "Database Northwind berisi data penjualan perusahaan fiktif bernama Northwind Traders. Fokus perusahaan dalam bidang mengimpor dan mengekspor beberapa makanan dan minuman khusus dari seluruh dunia. Perusahan fiktif ini melakukan penjualan makanan dan minuman khusus tersebut secara grosir ke gerai seluruh dunia. Basis data ini terdapat 2155 transaksi yang terjadi dengan 89 pelanggan berbeda selama 23 bulan, lengkap dengan informasi mengenai customer, product, detail order, employee, region, shipper, supplier, territories, dan categorie product. Dalam analisis kali ini, berfokus pada produk yang sudah melewati proses transaksi selama 23 bulan (1996 - 1998) pada perusahaan Northwind. Analisis ini bertujuan untuk mengolah data yang ada sehingga menghasilkan suatu informasi penting yang dapat meningkatkan produktivitas perusahaan dan penerapan strategi yang tepat sasaran dalam melakukan transaksi sehingga memperoleh keuntungan yang lebih lagi."
   ]
  },
  {
   "cell_type": "markdown",
   "metadata": {},
   "source": [
    "### **Database Information :**\n",
    "\n",
    "Database yang dimiliki mempunyai 11 tabel, yaitu:\n",
    "- Categories    : Menyimpan informasi tentang kategori produk\n",
    "- Customers     : Menyimpan informasi tentang data pelanggan/customer\n",
    "- Products      : Menyimpan informasi tentang jenis produk\n",
    "- Orders        : Menyimpan informasi jual-beli yang dilakukan oleh customer\n",
    "- Orderdetails  : Menyimpan informasi lebih detail terkait order yang dilakukan oleh customer\n",
    "- Employees     : Menyimpan informasi tentang karyawan serta struktur organisasi dan jabatan setiap karyawan\n",
    "- Employeeterritories : Menyimpan informasi tentang territoryID dari karyawan\n",
    "- Region    : Menyimpan informasi tentang region\n",
    "- Shippers  : Menyimpan informasi tentang shippers yang digunakan oleh perusahaan\n",
    "- Suppliers : Menyimpan informasi tentang supplier perusahaan\n",
    "- Territories : Menyimpan informasi tentang wilayah disetiap region"
   ]
  },
  {
   "cell_type": "markdown",
   "metadata": {},
   "source": [
    "### **Question :**\n",
    "\n",
    "1. Tampilkan total sale amount dan total quantity berdasarkan kategori produk! serta jabarkan insight yang didapatkan dari grafik tersebut.\n",
    "3. Tampilkan 10 produk yang paling banyak dipesan (berdasarkan quantity) oleh customer!\n",
    "4. Tampilkan urutan kategori produk dari yang paling banyak dipesan (berdasarkan quantity) oleh customer!\n",
    "5. Tampilkan grafik serta jelaskan Total sales per tahun!\n",
    "6. Pada bulan dan tahun ke berapa keuntungan terbesar yang didapatkan oleh perusahaan Northwind?\n",
    "7. Tampilkan Top 10 customer yang melakukan pembelian terbanyak selama 23 bulan!\n",
    "8. Tampilkan dalam bentuk peta dunia (Map) penyebaran customer perusahaan serta total saleamount dan total quantity-nya!\n",
    "9. Berapa banyak pesanan yang mengalami keterlambatan atau kendala? dan Tampilkan jumlah pesanan berdasarkan hari keterlambatannya!\n",
    "10. Berapa banyak produk yang memiliki harga per unit diatas rata-rata harga per unit produk?\n",
    "11. Tampilkan produk apa saja yang sudah tidak lagi dijual? dan berapa sisa total produk tersebut dalam stok?\n",
    "12. Tampilkan 10 produk termahal yang dijual oleh perusahaan?\n",
    "13. Tampilkan stok dari produk terlaris yang tersedia saat ini (Unit in Stock best selling product)?"
   ]
  },
  {
   "cell_type": "markdown",
   "metadata": {},
   "source": [
    "***\n",
    "# **DATABASE NORTHWIND**"
   ]
  },
  {
   "cell_type": "markdown",
   "metadata": {},
   "source": [
    "## **Connecting to Database**\n",
    "\n",
    "Pada bagian ini merupakan langkah awal untuk memulai proses analisis data. Pertama, menghubungkan ke database `northwind` sehingga nantinya dapat mengakses seluruh tabel yang ada pada database"
   ]
  },
  {
   "cell_type": "code",
   "execution_count": 2,
   "metadata": {},
   "outputs": [],
   "source": [
    "# !pip install mysql-connector-python\n",
    "\n",
    "# Melakukan instalisasi mysql ke python"
   ]
  },
  {
   "cell_type": "code",
   "execution_count": 3,
   "metadata": {},
   "outputs": [],
   "source": [
    "# Import Modules\n",
    "\n",
    "import pandas as pd\n",
    "import numpy as np\n",
    "import mysql.connector as sqlcon\n",
    "import matplotlib.pyplot as plt\n",
    "import seaborn as sns\n",
    "\n",
    "# Melakukan import modules yang akan digunakan"
   ]
  },
  {
   "cell_type": "code",
   "execution_count": 4,
   "metadata": {},
   "outputs": [],
   "source": [
    "# Connect to Database Northwind\n",
    "\n",
    "db =  sqlcon.connect(\n",
    "    host = 'localhost',\n",
    "    user = 'root',\n",
    "    password = '090667Irfan.',\n",
    "    database = 'northwind'\n",
    ")"
   ]
  },
  {
   "cell_type": "markdown",
   "metadata": {},
   "source": [
    "**Query Function**\n",
    "\n",
    "Langkah kedua adalah membuat query. Query ini nantinya akan disimpan dalam bentuk DataFrame yang akan digunakan untuk keperluan analisis data northwind. Query yang dibuat akan melibatkan beberapa tabel yang memiliki kolom penting untuk analisis data dan menjawab pertanyaan yang telah dibuat."
   ]
  },
  {
   "cell_type": "code",
   "execution_count": 5,
   "metadata": {},
   "outputs": [],
   "source": [
    "# Query Function\n",
    "\n",
    "curs = db.cursor()\n",
    "def sql_table (query):\n",
    "    curs.execute (query)\n",
    "    result = curs.fetchall()\n",
    "    tabel_A = pd.DataFrame(result, columns=curs.column_names)\n",
    "    return tabel_A"
   ]
  },
  {
   "cell_type": "markdown",
   "metadata": {},
   "source": [
    "***\n",
    "## **SQL**\n",
    "\n",
    "**Question:**\n",
    "\n",
    "1. Apakah tabel products, orders, orderdetails, categories, dan customers dapat digabungkan menjadi 1 tabel? Jika dapat digabungkan, tampilkan tabel yang memuat informasi terkait penjualan produk, total sale amount setiap order, customer yang membeli produk, dan sebagainya yang melibatkan kelima tabel tersebut.\n",
    "2. Apakah dapat menampilkan kolom baru yang merupakan Sale amount yang didapatkan dari perkalian antara harga per unit dan quantity setiap order yang dilakukan oleh customer?\n",
    "3. Buatlah tabel yang berisikan total jenis produk yang di order, total quantity setiap produk yang diorder, total ketersedian produk (UnitInStock) dan total sale amount tiap kategori produknya?"
   ]
  },
  {
   "cell_type": "markdown",
   "metadata": {},
   "source": [
    "### **Data General**\n",
    "\n",
    "**tabel_A**\n",
    "\n",
    "Data pertama atau query pertama merupakan data utama yang akan dianalisa lebih lanjut. Query utama ini berisikan gabungan dari beberapa tabel antara lain, `orders`, `orderdetails`, `customer`, `products`, dan `categories`. Karena fokus analisis adalah seluruh hal yang berhubungan dengan produk, maka dipilih kolom dari beberapa tabel yang dapat menghasilkan informasi penting terkait produk dari perusahaan. Informasi yang diambil antara lain:\n",
    "\n",
    "- CustomerID (orders)               = ID dari setiap customer\n",
    "- OrderID (orders)                  = ID dari setiap order yang dilakukan oleh customer\n",
    "- OrderDate (orders)                = Tanggal order dilakukan oleh customer\n",
    "- RequiredDate (orders)             = Tanggal produk dibutuhkan customer\n",
    "- ShippedDate (orders)              = Tanggal produk dikirimkan ke customer\n",
    "- ProductID (products)              = ID dari setiap produk\n",
    "- ProductName (products)            = Nama setiap produk\n",
    "- UnitsInStock (products)           = Stok produk yang tersedia saat ini\n",
    "- Discontinued (products)           = Produk masih dijual atau diberhentikan penjualannya\n",
    "- UnitPrice (orderdetails)          = Harga per unit tiap produk\n",
    "- Quantity (orderdetails)           = Quantity setiap produk\n",
    "- CategoryName (categories)         = Nama kategori produk\n",
    "- CategoryID (categories)           = ID dari kategori produk\n",
    "- CompanyName (customers)           = Nama perusahaan customer\n",
    "- City (customers)                  = Kota dari customer\n",
    "- Region (customers)                = Region dari customer\n",
    "- Country (customers)               = Negara dari customer\n",
    "\n",
    "Selain kolom penting dari beberapa tabel, untuk menambahkan informasi penting, dilakukan gabungan beberapa kolom sehingga menghasilkan kolom baru bernama `SaleAmount`. Kolom `SaleAmount` digunakan untuk informasi total harga penjualan yang didapatkan dari perkalian antara `UnitPrice` harga tiap produk dengan `quantity` atau jumlah produk yang dipesan(diluar biaya kargo `Freight`).\n",
    "\n",
    "Semua informasi tersebut dijadikan dalam satu tabel (query) dalam bentuk dataframe yang akan diolah informasinya.\n"
   ]
  },
  {
   "cell_type": "code",
   "execution_count": 6,
   "metadata": {},
   "outputs": [
    {
     "data": {
      "text/html": [
       "<div>\n",
       "<style scoped>\n",
       "    .dataframe tbody tr th:only-of-type {\n",
       "        vertical-align: middle;\n",
       "    }\n",
       "\n",
       "    .dataframe tbody tr th {\n",
       "        vertical-align: top;\n",
       "    }\n",
       "\n",
       "    .dataframe thead th {\n",
       "        text-align: right;\n",
       "    }\n",
       "</style>\n",
       "<table border=\"1\" class=\"dataframe\">\n",
       "  <thead>\n",
       "    <tr style=\"text-align: right;\">\n",
       "      <th></th>\n",
       "      <th>CustomerID</th>\n",
       "      <th>OrderID</th>\n",
       "      <th>ProductID</th>\n",
       "      <th>CategoryID</th>\n",
       "      <th>CategoryName</th>\n",
       "      <th>ProductName</th>\n",
       "      <th>CompanyName</th>\n",
       "      <th>City</th>\n",
       "      <th>Region</th>\n",
       "      <th>Country</th>\n",
       "      <th>Order_Date</th>\n",
       "      <th>RequiredDate</th>\n",
       "      <th>ShippedDate</th>\n",
       "      <th>UnitPrice</th>\n",
       "      <th>Quantity</th>\n",
       "      <th>UnitsInStock</th>\n",
       "      <th>Discontinued</th>\n",
       "      <th>SaleAmount</th>\n",
       "    </tr>\n",
       "  </thead>\n",
       "  <tbody>\n",
       "    <tr>\n",
       "      <th>0</th>\n",
       "      <td>QUICK</td>\n",
       "      <td>10285</td>\n",
       "      <td>1</td>\n",
       "      <td>1</td>\n",
       "      <td>Beverages</td>\n",
       "      <td>Chai</td>\n",
       "      <td>QUICK-Stop</td>\n",
       "      <td>Cunewalde</td>\n",
       "      <td>None</td>\n",
       "      <td>Germany</td>\n",
       "      <td>1996-08-20</td>\n",
       "      <td>1996-09-17</td>\n",
       "      <td>1996-08-26</td>\n",
       "      <td>14.4</td>\n",
       "      <td>45</td>\n",
       "      <td>39</td>\n",
       "      <td>0</td>\n",
       "      <td>810.0</td>\n",
       "    </tr>\n",
       "    <tr>\n",
       "      <th>1</th>\n",
       "      <td>RATTC</td>\n",
       "      <td>10294</td>\n",
       "      <td>1</td>\n",
       "      <td>1</td>\n",
       "      <td>Beverages</td>\n",
       "      <td>Chai</td>\n",
       "      <td>Rattlesnake Canyon Grocery</td>\n",
       "      <td>Albuquerque</td>\n",
       "      <td>NM</td>\n",
       "      <td>USA</td>\n",
       "      <td>1996-08-30</td>\n",
       "      <td>1996-09-27</td>\n",
       "      <td>1996-09-05</td>\n",
       "      <td>14.4</td>\n",
       "      <td>18</td>\n",
       "      <td>39</td>\n",
       "      <td>0</td>\n",
       "      <td>324.0</td>\n",
       "    </tr>\n",
       "    <tr>\n",
       "      <th>2</th>\n",
       "      <td>LONEP</td>\n",
       "      <td>10317</td>\n",
       "      <td>1</td>\n",
       "      <td>1</td>\n",
       "      <td>Beverages</td>\n",
       "      <td>Chai</td>\n",
       "      <td>Lonesome Pine Restaurant</td>\n",
       "      <td>Portland</td>\n",
       "      <td>OR</td>\n",
       "      <td>USA</td>\n",
       "      <td>1996-09-30</td>\n",
       "      <td>1996-10-28</td>\n",
       "      <td>1996-10-10</td>\n",
       "      <td>14.4</td>\n",
       "      <td>20</td>\n",
       "      <td>39</td>\n",
       "      <td>0</td>\n",
       "      <td>360.0</td>\n",
       "    </tr>\n",
       "    <tr>\n",
       "      <th>3</th>\n",
       "      <td>WANDK</td>\n",
       "      <td>10348</td>\n",
       "      <td>1</td>\n",
       "      <td>1</td>\n",
       "      <td>Beverages</td>\n",
       "      <td>Chai</td>\n",
       "      <td>Die Wandernde Kuh</td>\n",
       "      <td>Stuttgart</td>\n",
       "      <td>None</td>\n",
       "      <td>Germany</td>\n",
       "      <td>1996-11-07</td>\n",
       "      <td>1996-12-05</td>\n",
       "      <td>1996-11-15</td>\n",
       "      <td>14.4</td>\n",
       "      <td>15</td>\n",
       "      <td>39</td>\n",
       "      <td>0</td>\n",
       "      <td>270.0</td>\n",
       "    </tr>\n",
       "    <tr>\n",
       "      <th>4</th>\n",
       "      <td>PERIC</td>\n",
       "      <td>10354</td>\n",
       "      <td>1</td>\n",
       "      <td>1</td>\n",
       "      <td>Beverages</td>\n",
       "      <td>Chai</td>\n",
       "      <td>Pericles Comidas clsicas</td>\n",
       "      <td>Mxico D.F.</td>\n",
       "      <td>None</td>\n",
       "      <td>Mexico</td>\n",
       "      <td>1996-11-14</td>\n",
       "      <td>1996-12-12</td>\n",
       "      <td>1996-11-20</td>\n",
       "      <td>14.4</td>\n",
       "      <td>12</td>\n",
       "      <td>39</td>\n",
       "      <td>0</td>\n",
       "      <td>216.0</td>\n",
       "    </tr>\n",
       "  </tbody>\n",
       "</table>\n",
       "</div>"
      ],
      "text/plain": [
       "  CustomerID  OrderID  ProductID  CategoryID CategoryName ProductName  \\\n",
       "0      QUICK    10285          1           1    Beverages        Chai   \n",
       "1      RATTC    10294          1           1    Beverages        Chai   \n",
       "2      LONEP    10317          1           1    Beverages        Chai   \n",
       "3      WANDK    10348          1           1    Beverages        Chai   \n",
       "4      PERIC    10354          1           1    Beverages        Chai   \n",
       "\n",
       "                  CompanyName         City Region  Country Order_Date  \\\n",
       "0                  QUICK-Stop    Cunewalde   None  Germany 1996-08-20   \n",
       "1  Rattlesnake Canyon Grocery  Albuquerque     NM      USA 1996-08-30   \n",
       "2    Lonesome Pine Restaurant     Portland     OR      USA 1996-09-30   \n",
       "3           Die Wandernde Kuh    Stuttgart   None  Germany 1996-11-07   \n",
       "4    Pericles Comidas clsicas   Mxico D.F.   None   Mexico 1996-11-14   \n",
       "\n",
       "  RequiredDate ShippedDate UnitPrice  Quantity  UnitsInStock  Discontinued  \\\n",
       "0   1996-09-17  1996-08-26      14.4        45            39             0   \n",
       "1   1996-09-27  1996-09-05      14.4        18            39             0   \n",
       "2   1996-10-28  1996-10-10      14.4        20            39             0   \n",
       "3   1996-12-05  1996-11-15      14.4        15            39             0   \n",
       "4   1996-12-12  1996-11-20      14.4        12            39             0   \n",
       "\n",
       "  SaleAmount  \n",
       "0      810.0  \n",
       "1      324.0  \n",
       "2      360.0  \n",
       "3      270.0  \n",
       "4      216.0  "
      ]
     },
     "execution_count": 6,
     "metadata": {},
     "output_type": "execute_result"
    }
   ],
   "source": [
    "# Query 1\n",
    "\n",
    "tabel_A = sql_table(\n",
    "    '''\n",
    "select cu.CustomerID, o.OrderID, p.ProductID, c.CategoryID, c.CategoryName, p.ProductName, cu.CompanyName, cu.City, cu.Region, cu.Country, o.OrderDate as Order_Date, o.RequiredDate, o.ShippedDate,\n",
    "    round((od.UnitPrice),1) UnitPrice, od.Quantity, p.UnitsInStock, p.Discontinued, round((p.UnitPrice*od.Quantity),1) SaleAmount\n",
    "from products p\n",
    "left join orderdetails od on od.ProductID = p.ProductID\n",
    "left join orders o on o.OrderID = od.OrderID\n",
    "left join customers cu on o.CustomerID = cu.CustomerID\n",
    "left join categories c on c.CategoryID = p.CategoryID;\n",
    "    '''\n",
    ")\n",
    "\n",
    "tabel_A.head()"
   ]
  },
  {
   "cell_type": "markdown",
   "metadata": {},
   "source": [
    "### **Data Category Product**\n",
    "\n",
    "**tabel_product**\n",
    "\n",
    "query kedua merupakan tabel infromasi tambahan yang dikhususkan untuk analisa produk yang terdiri dari, `CategoryName` merupakan kategori produk yang dijual oleh perusahaan northwind, `Total_Produk` merupakan total produk berdasarkan kategori produk, `Jumlah_Quantity` merupakan jumlah kuantitas berdasarkan kategori produk, dan `Produk_Tersedia` merupakan jumlah produk yang tersedia berdasarkan kategori produk. Selain itu, kolom `SaleAmount` berdasarkan kategori produk akan diambil dari tabel_A (query 1). Tabel ini akan memberikan gambaran mengenai kategori produk. Dapat dilihat juga keadaan stok barang yang tersedia sehingga dapat diperkirakan jika ingin menambahkan quantity setiap produk menyesuaikan ketersediaan produk."
   ]
  },
  {
   "cell_type": "code",
   "execution_count": 7,
   "metadata": {},
   "outputs": [
    {
     "data": {
      "text/html": [
       "<div>\n",
       "<style scoped>\n",
       "    .dataframe tbody tr th:only-of-type {\n",
       "        vertical-align: middle;\n",
       "    }\n",
       "\n",
       "    .dataframe tbody tr th {\n",
       "        vertical-align: top;\n",
       "    }\n",
       "\n",
       "    .dataframe thead th {\n",
       "        text-align: right;\n",
       "    }\n",
       "</style>\n",
       "<table border=\"1\" class=\"dataframe\">\n",
       "  <thead>\n",
       "    <tr style=\"text-align: right;\">\n",
       "      <th></th>\n",
       "      <th>CategoryName</th>\n",
       "      <th>Total_Produk</th>\n",
       "      <th>Jumlah_Quantity</th>\n",
       "      <th>Produk_Tersedia</th>\n",
       "    </tr>\n",
       "  </thead>\n",
       "  <tbody>\n",
       "    <tr>\n",
       "      <th>0</th>\n",
       "      <td>Beverages</td>\n",
       "      <td>12</td>\n",
       "      <td>9532</td>\n",
       "      <td>18111</td>\n",
       "    </tr>\n",
       "    <tr>\n",
       "      <th>1</th>\n",
       "      <td>Condiments</td>\n",
       "      <td>12</td>\n",
       "      <td>5298</td>\n",
       "      <td>10416</td>\n",
       "    </tr>\n",
       "    <tr>\n",
       "      <th>2</th>\n",
       "      <td>Confections</td>\n",
       "      <td>13</td>\n",
       "      <td>7906</td>\n",
       "      <td>7944</td>\n",
       "    </tr>\n",
       "    <tr>\n",
       "      <th>3</th>\n",
       "      <td>Dairy Products</td>\n",
       "      <td>10</td>\n",
       "      <td>9149</td>\n",
       "      <td>13424</td>\n",
       "    </tr>\n",
       "    <tr>\n",
       "      <th>4</th>\n",
       "      <td>Grains/Cereals</td>\n",
       "      <td>7</td>\n",
       "      <td>4562</td>\n",
       "      <td>7096</td>\n",
       "    </tr>\n",
       "    <tr>\n",
       "      <th>5</th>\n",
       "      <td>Meat/Poultry</td>\n",
       "      <td>6</td>\n",
       "      <td>4199</td>\n",
       "      <td>4696</td>\n",
       "    </tr>\n",
       "    <tr>\n",
       "      <th>6</th>\n",
       "      <td>Produce</td>\n",
       "      <td>5</td>\n",
       "      <td>2990</td>\n",
       "      <td>2895</td>\n",
       "    </tr>\n",
       "    <tr>\n",
       "      <th>7</th>\n",
       "      <td>Seafood</td>\n",
       "      <td>12</td>\n",
       "      <td>7681</td>\n",
       "      <td>21178</td>\n",
       "    </tr>\n",
       "  </tbody>\n",
       "</table>\n",
       "</div>"
      ],
      "text/plain": [
       "     CategoryName  Total_Produk Jumlah_Quantity Produk_Tersedia\n",
       "0       Beverages            12            9532           18111\n",
       "1      Condiments            12            5298           10416\n",
       "2     Confections            13            7906            7944\n",
       "3  Dairy Products            10            9149           13424\n",
       "4  Grains/Cereals             7            4562            7096\n",
       "5    Meat/Poultry             6            4199            4696\n",
       "6         Produce             5            2990            2895\n",
       "7         Seafood            12            7681           21178"
      ]
     },
     "execution_count": 7,
     "metadata": {},
     "output_type": "execute_result"
    }
   ],
   "source": [
    "# Query 2\n",
    "\n",
    "tabel_product = sql_table(\n",
    "    '''\n",
    "select\n",
    "    c.CategoryName, count(distinct p.ProductName) as Total_Produk, sum(od.quantity) as Jumlah_Quantity, sum(p.UnitsInStock) as Produk_Tersedia\n",
    "from products p\n",
    "left join orderdetails od on od.ProductID = p.ProductID\n",
    "left join orders o on o.OrderID = od.OrderID\n",
    "left join categories c on c.CategoryID = p.CategoryID\n",
    "Group by CategoryName\n",
    "order by CategoryName;\n",
    "    '''\n",
    ")\n",
    "\n",
    "tabel_product"
   ]
  },
  {
   "cell_type": "code",
   "execution_count": 8,
   "metadata": {},
   "outputs": [
    {
     "data": {
      "text/html": [
       "<div>\n",
       "<style scoped>\n",
       "    .dataframe tbody tr th:only-of-type {\n",
       "        vertical-align: middle;\n",
       "    }\n",
       "\n",
       "    .dataframe tbody tr th {\n",
       "        vertical-align: top;\n",
       "    }\n",
       "\n",
       "    .dataframe thead th {\n",
       "        text-align: right;\n",
       "    }\n",
       "</style>\n",
       "<table border=\"1\" class=\"dataframe\">\n",
       "  <thead>\n",
       "    <tr style=\"text-align: right;\">\n",
       "      <th></th>\n",
       "      <th>CategoryName</th>\n",
       "      <th>SaleAmount</th>\n",
       "    </tr>\n",
       "  </thead>\n",
       "  <tbody>\n",
       "    <tr>\n",
       "      <th>0</th>\n",
       "      <td>Beverages</td>\n",
       "      <td>309582.5</td>\n",
       "    </tr>\n",
       "    <tr>\n",
       "      <th>1</th>\n",
       "      <td>Condiments</td>\n",
       "      <td>122344.1</td>\n",
       "    </tr>\n",
       "    <tr>\n",
       "      <th>2</th>\n",
       "      <td>Confections</td>\n",
       "      <td>190330.0</td>\n",
       "    </tr>\n",
       "    <tr>\n",
       "      <th>3</th>\n",
       "      <td>Dairy Products</td>\n",
       "      <td>269128.3</td>\n",
       "    </tr>\n",
       "    <tr>\n",
       "      <th>4</th>\n",
       "      <td>Grains/Cereals</td>\n",
       "      <td>106848.5</td>\n",
       "    </tr>\n",
       "    <tr>\n",
       "      <th>5</th>\n",
       "      <td>Meat/Poultry</td>\n",
       "      <td>190683.4</td>\n",
       "    </tr>\n",
       "    <tr>\n",
       "      <th>6</th>\n",
       "      <td>Produce</td>\n",
       "      <td>111395.6</td>\n",
       "    </tr>\n",
       "    <tr>\n",
       "      <th>7</th>\n",
       "      <td>Seafood</td>\n",
       "      <td>149060.6</td>\n",
       "    </tr>\n",
       "  </tbody>\n",
       "</table>\n",
       "</div>"
      ],
      "text/plain": [
       "     CategoryName SaleAmount\n",
       "0       Beverages   309582.5\n",
       "1      Condiments   122344.1\n",
       "2     Confections   190330.0\n",
       "3  Dairy Products   269128.3\n",
       "4  Grains/Cereals   106848.5\n",
       "5    Meat/Poultry   190683.4\n",
       "6         Produce   111395.6\n",
       "7         Seafood   149060.6"
      ]
     },
     "execution_count": 8,
     "metadata": {},
     "output_type": "execute_result"
    }
   ],
   "source": [
    "Total_Penjualan = tabel_A.groupby('CategoryName')[['SaleAmount']].sum().reset_index()\n",
    "Total_Penjualan"
   ]
  },
  {
   "cell_type": "code",
   "execution_count": 9,
   "metadata": {},
   "outputs": [],
   "source": [
    "# Masukkan Total penjualan dari penjumlahan kolom SaleAmount tabel_A\n",
    "tabel_product = tabel_product.merge(Total_Penjualan, on='CategoryName')"
   ]
  },
  {
   "cell_type": "code",
   "execution_count": 10,
   "metadata": {},
   "outputs": [
    {
     "data": {
      "text/html": [
       "<div>\n",
       "<style scoped>\n",
       "    .dataframe tbody tr th:only-of-type {\n",
       "        vertical-align: middle;\n",
       "    }\n",
       "\n",
       "    .dataframe tbody tr th {\n",
       "        vertical-align: top;\n",
       "    }\n",
       "\n",
       "    .dataframe thead th {\n",
       "        text-align: right;\n",
       "    }\n",
       "</style>\n",
       "<table border=\"1\" class=\"dataframe\">\n",
       "  <thead>\n",
       "    <tr style=\"text-align: right;\">\n",
       "      <th></th>\n",
       "      <th>Kategori_Produk</th>\n",
       "      <th>Total_Produk</th>\n",
       "      <th>Jumlah_Quantity</th>\n",
       "      <th>Produk_Tersedia</th>\n",
       "      <th>SaleAmount</th>\n",
       "    </tr>\n",
       "  </thead>\n",
       "  <tbody>\n",
       "    <tr>\n",
       "      <th>0</th>\n",
       "      <td>Beverages</td>\n",
       "      <td>12</td>\n",
       "      <td>9532</td>\n",
       "      <td>18111</td>\n",
       "      <td>309582.5</td>\n",
       "    </tr>\n",
       "    <tr>\n",
       "      <th>3</th>\n",
       "      <td>Dairy Products</td>\n",
       "      <td>10</td>\n",
       "      <td>9149</td>\n",
       "      <td>13424</td>\n",
       "      <td>269128.3</td>\n",
       "    </tr>\n",
       "    <tr>\n",
       "      <th>5</th>\n",
       "      <td>Meat/Poultry</td>\n",
       "      <td>6</td>\n",
       "      <td>4199</td>\n",
       "      <td>4696</td>\n",
       "      <td>190683.4</td>\n",
       "    </tr>\n",
       "    <tr>\n",
       "      <th>2</th>\n",
       "      <td>Confections</td>\n",
       "      <td>13</td>\n",
       "      <td>7906</td>\n",
       "      <td>7944</td>\n",
       "      <td>190330.0</td>\n",
       "    </tr>\n",
       "    <tr>\n",
       "      <th>7</th>\n",
       "      <td>Seafood</td>\n",
       "      <td>12</td>\n",
       "      <td>7681</td>\n",
       "      <td>21178</td>\n",
       "      <td>149060.6</td>\n",
       "    </tr>\n",
       "    <tr>\n",
       "      <th>1</th>\n",
       "      <td>Condiments</td>\n",
       "      <td>12</td>\n",
       "      <td>5298</td>\n",
       "      <td>10416</td>\n",
       "      <td>122344.1</td>\n",
       "    </tr>\n",
       "    <tr>\n",
       "      <th>6</th>\n",
       "      <td>Produce</td>\n",
       "      <td>5</td>\n",
       "      <td>2990</td>\n",
       "      <td>2895</td>\n",
       "      <td>111395.6</td>\n",
       "    </tr>\n",
       "    <tr>\n",
       "      <th>4</th>\n",
       "      <td>Grains/Cereals</td>\n",
       "      <td>7</td>\n",
       "      <td>4562</td>\n",
       "      <td>7096</td>\n",
       "      <td>106848.5</td>\n",
       "    </tr>\n",
       "  </tbody>\n",
       "</table>\n",
       "</div>"
      ],
      "text/plain": [
       "  Kategori_Produk  Total_Produk Jumlah_Quantity Produk_Tersedia SaleAmount\n",
       "0       Beverages            12            9532           18111   309582.5\n",
       "3  Dairy Products            10            9149           13424   269128.3\n",
       "5    Meat/Poultry             6            4199            4696   190683.4\n",
       "2     Confections            13            7906            7944   190330.0\n",
       "7         Seafood            12            7681           21178   149060.6\n",
       "1      Condiments            12            5298           10416   122344.1\n",
       "6         Produce             5            2990            2895   111395.6\n",
       "4  Grains/Cereals             7            4562            7096   106848.5"
      ]
     },
     "execution_count": 10,
     "metadata": {},
     "output_type": "execute_result"
    }
   ],
   "source": [
    "# Ubah nama kolom\n",
    "tabel_product = tabel_product.rename(columns={'CategoryName':'Kategori_Produk'})\n",
    "tabel_product.sort_values('SaleAmount', ascending= False)"
   ]
  },
  {
   "cell_type": "markdown",
   "metadata": {},
   "source": [
    "***\n",
    "# **DATA MANIPULATION**\n",
    "\n",
    "Sebelum melakukan analisis terhadap data tabel_A maupun tabel_product, kita akan melakukan data manipulation. Pada tahapan ini akan melakukan pengecekan data memiliki anomali yang nantinya akan memberikan pengaruh terhadap hasil analisis.Jika memang nanti ada data yang dapat dikatakan mempengaruhi data lainnya, maka perlu dilakukan penanganan terhadap bagian tersebut. Data yang mengganggu tersebut jika memiliki missing value, outlier, kesalahan dalam penulisan, data yang duplikat, tipe data yang masih salah, dan anomali dari data nya. Oleh karena itu, tahapan ini akan melakukan 'pembersihan' terhadap hal-hal yang mengganggu bagi dataset."
   ]
  },
  {
   "cell_type": "code",
   "execution_count": 11,
   "metadata": {},
   "outputs": [
    {
     "name": "stdout",
     "output_type": "stream",
     "text": [
      "<class 'pandas.core.frame.DataFrame'>\n",
      "RangeIndex: 2155 entries, 0 to 2154\n",
      "Data columns (total 18 columns):\n",
      " #   Column        Non-Null Count  Dtype         \n",
      "---  ------        --------------  -----         \n",
      " 0   CustomerID    2155 non-null   object        \n",
      " 1   OrderID       2155 non-null   int64         \n",
      " 2   ProductID     2155 non-null   int64         \n",
      " 3   CategoryID    2155 non-null   int64         \n",
      " 4   CategoryName  2155 non-null   object        \n",
      " 5   ProductName   2155 non-null   object        \n",
      " 6   CompanyName   2155 non-null   object        \n",
      " 7   City          2155 non-null   object        \n",
      " 8   Region        826 non-null    object        \n",
      " 9   Country       2155 non-null   object        \n",
      " 10  Order_Date    2155 non-null   datetime64[ns]\n",
      " 11  RequiredDate  2155 non-null   datetime64[ns]\n",
      " 12  ShippedDate   2082 non-null   datetime64[ns]\n",
      " 13  UnitPrice     2155 non-null   object        \n",
      " 14  Quantity      2155 non-null   int64         \n",
      " 15  UnitsInStock  2155 non-null   int64         \n",
      " 16  Discontinued  2155 non-null   int64         \n",
      " 17  SaleAmount    2155 non-null   object        \n",
      "dtypes: datetime64[ns](3), int64(6), object(9)\n",
      "memory usage: 303.2+ KB\n"
     ]
    }
   ],
   "source": [
    "# Check info tabel_A\n",
    "tabel_A.info()"
   ]
  },
  {
   "cell_type": "markdown",
   "metadata": {},
   "source": [
    "### **Missing Values**\n",
    "\n",
    "**Tabel_A: Missing Values**"
   ]
  },
  {
   "cell_type": "code",
   "execution_count": 12,
   "metadata": {},
   "outputs": [
    {
     "data": {
      "text/plain": [
       "CustomerID         0\n",
       "OrderID            0\n",
       "ProductID          0\n",
       "CategoryID         0\n",
       "CategoryName       0\n",
       "ProductName        0\n",
       "CompanyName        0\n",
       "City               0\n",
       "Region          1329\n",
       "Country            0\n",
       "Order_Date         0\n",
       "RequiredDate       0\n",
       "ShippedDate       73\n",
       "UnitPrice          0\n",
       "Quantity           0\n",
       "UnitsInStock       0\n",
       "Discontinued       0\n",
       "SaleAmount         0\n",
       "dtype: int64"
      ]
     },
     "execution_count": 12,
     "metadata": {},
     "output_type": "execute_result"
    }
   ],
   "source": [
    "# Jumlah missing value setiap kolom\n",
    "tabel_A.isna().sum()"
   ]
  },
  {
   "cell_type": "code",
   "execution_count": 13,
   "metadata": {},
   "outputs": [
    {
     "data": {
      "text/plain": [
       "CustomerID       0.000000\n",
       "OrderID          0.000000\n",
       "ProductID        0.000000\n",
       "CategoryID       0.000000\n",
       "CategoryName     0.000000\n",
       "ProductName      0.000000\n",
       "CompanyName      0.000000\n",
       "City             0.000000\n",
       "Region          61.670534\n",
       "Country          0.000000\n",
       "Order_Date       0.000000\n",
       "RequiredDate     0.000000\n",
       "ShippedDate      3.387471\n",
       "UnitPrice        0.000000\n",
       "Quantity         0.000000\n",
       "UnitsInStock     0.000000\n",
       "Discontinued     0.000000\n",
       "SaleAmount       0.000000\n",
       "dtype: float64"
      ]
     },
     "execution_count": 13,
     "metadata": {},
     "output_type": "execute_result"
    }
   ],
   "source": [
    "# Persentase Missing Value dalam suatu kolom\n",
    "tabel_A.isna().sum() / 2155 * 100"
   ]
  },
  {
   "cell_type": "markdown",
   "metadata": {},
   "source": [
    "\n",
    "Jika dilihat dari general info tabel_A yang disajikan di atas. Terlihat bahwa terdapat total data keseluruhan sebanyak 2155 data dengan 17 kolom. Namun, terdapat data yang memiliki missing value (Null Count) yang terlihat pada `Non-Null Count`. Terdapat kolom `Region` memiliki 826 data sehingga dapat dikatakan sisanya sebesar 62,7% data null atau missing value. Selain itu, kolom `ShippedDate` meiliki 2082 data, sehingga sisanya sebesar 3% data null atau missing value. Dalam kasus seperti ini, kita dapat melakukan drop data missing value yang dapat mempengaruhi analisis data. Jika missing value lebih besar 50% dari total data, maka kita dapat melakukan drop secara keseluruhan kolom tersebut. Jika tidak, kolom tersebut dapat memberikan pengaruh yang signifikan kepada data yang lainnya. Untuk kolom ShippedDate karena hanya terdapat 3% missing values, maka drop missing value yang nantinya akan menghilangkan data yang sebaris dengan missing value tersebut. Sehingga total data akan berkurang menjadi 2082 data saja yang diolah."
   ]
  },
  {
   "cell_type": "markdown",
   "metadata": {},
   "source": [
    "- Terlihat kolom Region memiliki 1329 data missing values atau dapat dikatakan sebesar 61,67%, dan kolom ShippedDate memiliki 73 (Sebesar 3,38%) data missing values."
   ]
  },
  {
   "cell_type": "markdown",
   "metadata": {},
   "source": [
    "### **Data Type**"
   ]
  },
  {
   "cell_type": "code",
   "execution_count": 14,
   "metadata": {},
   "outputs": [
    {
     "name": "stdout",
     "output_type": "stream",
     "text": [
      "<class 'pandas.core.frame.DataFrame'>\n",
      "RangeIndex: 2155 entries, 0 to 2154\n",
      "Data columns (total 18 columns):\n",
      " #   Column        Non-Null Count  Dtype         \n",
      "---  ------        --------------  -----         \n",
      " 0   CustomerID    2155 non-null   object        \n",
      " 1   OrderID       2155 non-null   int64         \n",
      " 2   ProductID     2155 non-null   int64         \n",
      " 3   CategoryID    2155 non-null   int64         \n",
      " 4   CategoryName  2155 non-null   object        \n",
      " 5   ProductName   2155 non-null   object        \n",
      " 6   CompanyName   2155 non-null   object        \n",
      " 7   City          2155 non-null   object        \n",
      " 8   Region        826 non-null    object        \n",
      " 9   Country       2155 non-null   object        \n",
      " 10  Order_Date    2155 non-null   datetime64[ns]\n",
      " 11  RequiredDate  2155 non-null   datetime64[ns]\n",
      " 12  ShippedDate   2082 non-null   datetime64[ns]\n",
      " 13  UnitPrice     2155 non-null   object        \n",
      " 14  Quantity      2155 non-null   int64         \n",
      " 15  UnitsInStock  2155 non-null   int64         \n",
      " 16  Discontinued  2155 non-null   int64         \n",
      " 17  SaleAmount    2155 non-null   object        \n",
      "dtypes: datetime64[ns](3), int64(6), object(9)\n",
      "memory usage: 303.2+ KB\n"
     ]
    }
   ],
   "source": [
    "# Check info tabel_A\n",
    "tabel_A.info()"
   ]
  },
  {
   "cell_type": "markdown",
   "metadata": {},
   "source": [
    "**Tabel_A: Data Type**\n",
    "\n",
    "Selain berfokus pada missing values, kali ini kita berfokus dengan tipe data tiap features. Jika dilihat dari features berikut: `UnitPrice`, `SaleAmount`.\n",
    "Kedua features memiliki tipe data (Dtype) object, seharusnya data numerikal harus memiliki tipe data numerikal agar nantinya memudahkan proses analisis data. Oleh karena itu, Kedua feature tersebut harus ditanggulangi tipe data nya menjadi float. Selain itu, kolom `OrderID`, `ProductID`, `CategoryID` sebaiknya dengan tipe string (object)."
   ]
  },
  {
   "cell_type": "code",
   "execution_count": 15,
   "metadata": {},
   "outputs": [
    {
     "name": "stdout",
     "output_type": "stream",
     "text": [
      "<class 'pandas.core.frame.DataFrame'>\n",
      "Int64Index: 8 entries, 0 to 7\n",
      "Data columns (total 5 columns):\n",
      " #   Column           Non-Null Count  Dtype \n",
      "---  ------           --------------  ----- \n",
      " 0   Kategori_Produk  8 non-null      object\n",
      " 1   Total_Produk     8 non-null      int64 \n",
      " 2   Jumlah_Quantity  8 non-null      object\n",
      " 3   Produk_Tersedia  8 non-null      object\n",
      " 4   SaleAmount       8 non-null      object\n",
      "dtypes: int64(1), object(4)\n",
      "memory usage: 384.0+ bytes\n"
     ]
    }
   ],
   "source": [
    "# Check info tabel_product\n",
    "tabel_product.info()"
   ]
  },
  {
   "cell_type": "markdown",
   "metadata": {},
   "source": [
    "**Tabel_product: Missing Values**\n",
    "- Tidak terdapat missing values pada tabel_product\n",
    "\n",
    "**Tabel_product: Data Type**\n",
    "- Tipe data feature `Banyak_Produk`, `Jumlah_Quantity`, dan `SaleAmount` seharusnya ketiga feature tersebut memiliki tipe data numerik, sedangkan informasi Dtype dari general info, untuk tipe data masih object. Oleh karena itu, hal tersebut harus ditanggulangi, ketiga features harus diubah menjadi numerik (float)."
   ]
  },
  {
   "cell_type": "markdown",
   "metadata": {},
   "source": [
    "## **Handling Anomalies**"
   ]
  },
  {
   "cell_type": "markdown",
   "metadata": {},
   "source": [
    "Setelah mengetahui data yang memiliki missing values dan tipe data yang tidak sesuai, maka kita akan memproses anomalies tersebut agar data tidak ada lagi anomalies yang dapat mempengaruhi analisis nantinya."
   ]
  },
  {
   "cell_type": "markdown",
   "metadata": {},
   "source": [
    "### Drop Missing Values"
   ]
  },
  {
   "cell_type": "code",
   "execution_count": 16,
   "metadata": {},
   "outputs": [],
   "source": [
    "# Drop kolom Region karena 50% dari total data untuk kolom Region missing value\n",
    "tabel_A.drop(columns=['Region'], inplace=True)"
   ]
  },
  {
   "cell_type": "code",
   "execution_count": 17,
   "metadata": {},
   "outputs": [],
   "source": [
    "# Drop baris yang memiliki nilai Null(missing value)\n",
    "tabel_A.dropna(inplace=True)"
   ]
  },
  {
   "cell_type": "code",
   "execution_count": 18,
   "metadata": {},
   "outputs": [
    {
     "data": {
      "text/plain": [
       "CustomerID      0\n",
       "OrderID         0\n",
       "ProductID       0\n",
       "CategoryID      0\n",
       "CategoryName    0\n",
       "ProductName     0\n",
       "CompanyName     0\n",
       "City            0\n",
       "Country         0\n",
       "Order_Date      0\n",
       "RequiredDate    0\n",
       "ShippedDate     0\n",
       "UnitPrice       0\n",
       "Quantity        0\n",
       "UnitsInStock    0\n",
       "Discontinued    0\n",
       "SaleAmount      0\n",
       "dtype: int64"
      ]
     },
     "execution_count": 18,
     "metadata": {},
     "output_type": "execute_result"
    }
   ],
   "source": [
    "# Recheck Info\n",
    "tabel_A.isna().sum()\n",
    "\n",
    "# Data sudah bersih dari missing value"
   ]
  },
  {
   "cell_type": "markdown",
   "metadata": {},
   "source": [
    "### Mengubah Tipe Data (tabel_A dan tabel_product)"
   ]
  },
  {
   "cell_type": "code",
   "execution_count": 19,
   "metadata": {},
   "outputs": [],
   "source": [
    "# Change Column Format\n",
    "tabel_A['UnitPrice'] = pd.to_numeric(tabel_A['UnitPrice'])\n",
    "tabel_A['SaleAmount'] = pd.to_numeric(tabel_A['SaleAmount'])\n",
    "tabel_A['OrderID'] = tabel_A['OrderID'].apply(str)\n",
    "tabel_A['ProductID'] = tabel_A['ProductID'].apply(str)\n",
    "tabel_A['CategoryID'] = tabel_A['CategoryID'].apply(str)\n",
    "\n",
    "tabel_product['Jumlah_Quantity'] = pd.to_numeric(tabel_product['Jumlah_Quantity'])\n",
    "tabel_product['Produk_Tersedia'] = pd.to_numeric(tabel_product['Produk_Tersedia'])\n",
    "tabel_product['SaleAmount'] = pd.to_numeric(tabel_product['SaleAmount'])"
   ]
  },
  {
   "cell_type": "markdown",
   "metadata": {},
   "source": [
    "- Tipe (Dtype) data setiap kolom sudah sesuai, maksudnya data numerikal sudah bertipe float atau integer, sedangkan kategorikal bertipe object"
   ]
  },
  {
   "cell_type": "markdown",
   "metadata": {},
   "source": [
    "### **Recheck Missing Values dan Data Type Information**"
   ]
  },
  {
   "cell_type": "code",
   "execution_count": 20,
   "metadata": {},
   "outputs": [
    {
     "name": "stdout",
     "output_type": "stream",
     "text": [
      "<class 'pandas.core.frame.DataFrame'>\n",
      "Int64Index: 2082 entries, 0 to 2152\n",
      "Data columns (total 17 columns):\n",
      " #   Column        Non-Null Count  Dtype         \n",
      "---  ------        --------------  -----         \n",
      " 0   CustomerID    2082 non-null   object        \n",
      " 1   OrderID       2082 non-null   object        \n",
      " 2   ProductID     2082 non-null   object        \n",
      " 3   CategoryID    2082 non-null   object        \n",
      " 4   CategoryName  2082 non-null   object        \n",
      " 5   ProductName   2082 non-null   object        \n",
      " 6   CompanyName   2082 non-null   object        \n",
      " 7   City          2082 non-null   object        \n",
      " 8   Country       2082 non-null   object        \n",
      " 9   Order_Date    2082 non-null   datetime64[ns]\n",
      " 10  RequiredDate  2082 non-null   datetime64[ns]\n",
      " 11  ShippedDate   2082 non-null   datetime64[ns]\n",
      " 12  UnitPrice     2082 non-null   float64       \n",
      " 13  Quantity      2082 non-null   int64         \n",
      " 14  UnitsInStock  2082 non-null   int64         \n",
      " 15  Discontinued  2082 non-null   int64         \n",
      " 16  SaleAmount    2082 non-null   float64       \n",
      "dtypes: datetime64[ns](3), float64(2), int64(3), object(9)\n",
      "memory usage: 292.8+ KB\n"
     ]
    }
   ],
   "source": [
    "# Recheck Info tabel_A\n",
    "tabel_A.info()"
   ]
  },
  {
   "cell_type": "markdown",
   "metadata": {},
   "source": [
    "- Setelah melakukan drop missing values pada tabel_A, maka total baris menjadi 2082 yang siap dilakukan proses pengolahan data. Selain itu, tipe data setiap kolom sudah sesuai dengan seharusnya"
   ]
  },
  {
   "cell_type": "code",
   "execution_count": 21,
   "metadata": {},
   "outputs": [
    {
     "name": "stdout",
     "output_type": "stream",
     "text": [
      "<class 'pandas.core.frame.DataFrame'>\n",
      "Int64Index: 8 entries, 0 to 7\n",
      "Data columns (total 5 columns):\n",
      " #   Column           Non-Null Count  Dtype  \n",
      "---  ------           --------------  -----  \n",
      " 0   Kategori_Produk  8 non-null      object \n",
      " 1   Total_Produk     8 non-null      int64  \n",
      " 2   Jumlah_Quantity  8 non-null      float64\n",
      " 3   Produk_Tersedia  8 non-null      float64\n",
      " 4   SaleAmount       8 non-null      float64\n",
      "dtypes: float64(3), int64(1), object(1)\n",
      "memory usage: 384.0+ bytes\n"
     ]
    }
   ],
   "source": [
    "# Recheck Info tabel_product\n",
    "tabel_product.info()"
   ]
  },
  {
   "cell_type": "markdown",
   "metadata": {},
   "source": [
    "- Tipe data tiap kolom pada tabel_product sudah sesuai."
   ]
  },
  {
   "cell_type": "markdown",
   "metadata": {},
   "source": [
    "### **Data Outlier**"
   ]
  },
  {
   "cell_type": "code",
   "execution_count": 22,
   "metadata": {},
   "outputs": [],
   "source": [
    "def outliers(col):\n",
    "    q3 = tabel_A[col].describe().loc['75%']\n",
    "    q1 = tabel_A[col].describe().loc['25%']\n",
    "    iqr = q3 -q1\n",
    "\n",
    "    upper = q3 + (1.5*iqr)\n",
    "    lower = q1 - (1.5*iqr)\n",
    "    total_outlier = tabel_A[(tabel_A[col] < lower) | (tabel_A[col]> upper)][col].count()\n",
    "\n",
    "    print('Upper fence: ', upper)\n",
    "    print('Lower fence: ', lower)\n",
    "    print('Total Outlier: ', total_outlier)"
   ]
  },
  {
   "cell_type": "code",
   "execution_count": 23,
   "metadata": {},
   "outputs": [
    {
     "data": {
      "text/plain": [
       "['UnitPrice', 'Quantity', 'UnitsInStock', 'Discontinued', 'SaleAmount']"
      ]
     },
     "execution_count": 23,
     "metadata": {},
     "output_type": "execute_result"
    }
   ],
   "source": [
    "# Numerical Features in Tabel_A\n",
    "numerical_feature = [fea for fea in tabel_A.describe().columns]\n",
    "numerical_feature"
   ]
  },
  {
   "cell_type": "code",
   "execution_count": 24,
   "metadata": {},
   "outputs": [
    {
     "data": {
      "image/png": "[encoded data removed]",
      "text/plain": [
       "<Figure size 1440x720 with 5 Axes>"
      ]
     },
     "metadata": {},
     "output_type": "display_data"
    }
   ],
   "source": [
    "plt.figure(figsize=(20, 10), facecolor='white')\n",
    "sns.set(style='whitegrid', palette='Set3')\n",
    "plotnumber = 1\n",
    "\n",
    "for feature in numerical_feature:\n",
    "    ax = plt.subplot(3,3, plotnumber)\n",
    "    sns.boxplot(x=feature, data=tabel_A);\n",
    "    plt.title(feature, fontsize=16)\n",
    "    plt.tight_layout()\n",
    "    plotnumber += 1"
   ]
  },
  {
   "cell_type": "code",
   "execution_count": 25,
   "metadata": {},
   "outputs": [
    {
     "name": "stdout",
     "output_type": "stream",
     "text": [
      "Upper fence:  62.0\n",
      "Lower fence:  -18.0\n",
      "Total Outlier:  97\n"
     ]
    }
   ],
   "source": [
    "# Outliers pada UnitPrice\n",
    "outliers('UnitPrice')"
   ]
  },
  {
   "cell_type": "code",
   "execution_count": 26,
   "metadata": {},
   "outputs": [
    {
     "name": "stdout",
     "output_type": "stream",
     "text": [
      "Upper fence:  1661.4999999999998\n",
      "Lower fence:  -708.8999999999999\n",
      "Total Outlier:  161\n"
     ]
    }
   ],
   "source": [
    "# Batas Outliers pada SaleAmount\n",
    "outliers('SaleAmount')"
   ]
  },
  {
   "cell_type": "code",
   "execution_count": 27,
   "metadata": {},
   "outputs": [
    {
     "name": "stdout",
     "output_type": "stream",
     "text": [
      "Upper fence:  60.0\n",
      "Lower fence:  -20.0\n",
      "Total Outlier:  84\n"
     ]
    }
   ],
   "source": [
    "# Batas Outliers pada Quantity\n",
    "outliers('Quantity')"
   ]
  },
  {
   "cell_type": "code",
   "execution_count": 28,
   "metadata": {},
   "outputs": [
    {
     "name": "stdout",
     "output_type": "stream",
     "text": [
      "Upper fence:  117.0\n",
      "Lower fence:  -43.0\n",
      "Total Outlier:  96\n"
     ]
    }
   ],
   "source": [
    "# Batas Outliers pada UnitInStock\n",
    "outliers('UnitsInStock')"
   ]
  },
  {
   "cell_type": "markdown",
   "metadata": {},
   "source": [
    "### **Data Duplicate**\n",
    "\n",
    "Data yang bersifat duplikat akan menjadi sesuatu hal yang akan mengganggu proses analisis data. Jika memang nantinya terdapat data yang duplikat, sebaiknya data duplikatnya dihapus dan disisakan data yang unique saja. Jika tidak ada data yang duplikat, maka tidak perlu ada aksi yang harus dilakukan."
   ]
  },
  {
   "cell_type": "code",
   "execution_count": 29,
   "metadata": {},
   "outputs": [
    {
     "data": {
      "text/html": [
       "<div>\n",
       "<style scoped>\n",
       "    .dataframe tbody tr th:only-of-type {\n",
       "        vertical-align: middle;\n",
       "    }\n",
       "\n",
       "    .dataframe tbody tr th {\n",
       "        vertical-align: top;\n",
       "    }\n",
       "\n",
       "    .dataframe thead th {\n",
       "        text-align: right;\n",
       "    }\n",
       "</style>\n",
       "<table border=\"1\" class=\"dataframe\">\n",
       "  <thead>\n",
       "    <tr style=\"text-align: right;\">\n",
       "      <th></th>\n",
       "      <th>CustomerID</th>\n",
       "      <th>OrderID</th>\n",
       "      <th>ProductID</th>\n",
       "      <th>CategoryID</th>\n",
       "      <th>CategoryName</th>\n",
       "      <th>ProductName</th>\n",
       "      <th>CompanyName</th>\n",
       "      <th>City</th>\n",
       "      <th>Country</th>\n",
       "      <th>Order_Date</th>\n",
       "      <th>RequiredDate</th>\n",
       "      <th>ShippedDate</th>\n",
       "      <th>UnitPrice</th>\n",
       "      <th>Quantity</th>\n",
       "      <th>UnitsInStock</th>\n",
       "      <th>Discontinued</th>\n",
       "      <th>SaleAmount</th>\n",
       "    </tr>\n",
       "  </thead>\n",
       "  <tbody>\n",
       "  </tbody>\n",
       "</table>\n",
       "</div>"
      ],
      "text/plain": [
       "Empty DataFrame\n",
       "Columns: [CustomerID, OrderID, ProductID, CategoryID, CategoryName, ProductName, CompanyName, City, Country, Order_Date, RequiredDate, ShippedDate, UnitPrice, Quantity, UnitsInStock, Discontinued, SaleAmount]\n",
       "Index: []"
      ]
     },
     "execution_count": 29,
     "metadata": {},
     "output_type": "execute_result"
    }
   ],
   "source": [
    "# Check Duplicate\n",
    "tabel_A[tabel_A.duplicated()]"
   ]
  },
  {
   "cell_type": "code",
   "execution_count": 30,
   "metadata": {},
   "outputs": [
    {
     "data": {
      "text/html": [
       "<div>\n",
       "<style scoped>\n",
       "    .dataframe tbody tr th:only-of-type {\n",
       "        vertical-align: middle;\n",
       "    }\n",
       "\n",
       "    .dataframe tbody tr th {\n",
       "        vertical-align: top;\n",
       "    }\n",
       "\n",
       "    .dataframe thead th {\n",
       "        text-align: right;\n",
       "    }\n",
       "</style>\n",
       "<table border=\"1\" class=\"dataframe\">\n",
       "  <thead>\n",
       "    <tr style=\"text-align: right;\">\n",
       "      <th></th>\n",
       "      <th>Kategori_Produk</th>\n",
       "      <th>Total_Produk</th>\n",
       "      <th>Jumlah_Quantity</th>\n",
       "      <th>Produk_Tersedia</th>\n",
       "      <th>SaleAmount</th>\n",
       "    </tr>\n",
       "  </thead>\n",
       "  <tbody>\n",
       "  </tbody>\n",
       "</table>\n",
       "</div>"
      ],
      "text/plain": [
       "Empty DataFrame\n",
       "Columns: [Kategori_Produk, Total_Produk, Jumlah_Quantity, Produk_Tersedia, SaleAmount]\n",
       "Index: []"
      ]
     },
     "execution_count": 30,
     "metadata": {},
     "output_type": "execute_result"
    }
   ],
   "source": [
    "# Check Duplicate\n",
    "tabel_product[tabel_product.duplicated()]"
   ]
  },
  {
   "cell_type": "markdown",
   "metadata": {},
   "source": [
    "Tidak terdapat data yang duplikat"
   ]
  },
  {
   "cell_type": "markdown",
   "metadata": {},
   "source": [
    "***\n",
    "## **Add New Features**"
   ]
  },
  {
   "cell_type": "markdown",
   "metadata": {},
   "source": [
    "**Feature 'OnProcess'**"
   ]
  },
  {
   "cell_type": "code",
   "execution_count": 31,
   "metadata": {},
   "outputs": [],
   "source": [
    "# Feature 'OnProcess'\n",
    "tabel_A['OnProcess'] = tabel_A['ShippedDate'] - tabel_A['Order_Date']\n",
    "\n",
    "# Paket sedang diproses untuk pengiriman"
   ]
  },
  {
   "cell_type": "markdown",
   "metadata": {},
   "source": [
    "**Feature 'DeliveryTime'**"
   ]
  },
  {
   "cell_type": "code",
   "execution_count": 32,
   "metadata": {},
   "outputs": [],
   "source": [
    "# Feature 'DeliveryTime'\n",
    "tabel_A['DeliveryTime'] = tabel_A['RequiredDate'] - tabel_A['ShippedDate']\n",
    "\n",
    "# Waktu pengiriman ke lokasi yang dituju."
   ]
  },
  {
   "cell_type": "code",
   "execution_count": 33,
   "metadata": {},
   "outputs": [
    {
     "data": {
      "text/html": [
       "<div>\n",
       "<style scoped>\n",
       "    .dataframe tbody tr th:only-of-type {\n",
       "        vertical-align: middle;\n",
       "    }\n",
       "\n",
       "    .dataframe tbody tr th {\n",
       "        vertical-align: top;\n",
       "    }\n",
       "\n",
       "    .dataframe thead th {\n",
       "        text-align: right;\n",
       "    }\n",
       "</style>\n",
       "<table border=\"1\" class=\"dataframe\">\n",
       "  <thead>\n",
       "    <tr style=\"text-align: right;\">\n",
       "      <th></th>\n",
       "      <th>CustomerID</th>\n",
       "      <th>OrderID</th>\n",
       "      <th>ProductID</th>\n",
       "      <th>CategoryID</th>\n",
       "      <th>CategoryName</th>\n",
       "      <th>ProductName</th>\n",
       "      <th>CompanyName</th>\n",
       "      <th>City</th>\n",
       "      <th>Country</th>\n",
       "      <th>Order_Date</th>\n",
       "      <th>RequiredDate</th>\n",
       "      <th>ShippedDate</th>\n",
       "      <th>UnitPrice</th>\n",
       "      <th>Quantity</th>\n",
       "      <th>UnitsInStock</th>\n",
       "      <th>Discontinued</th>\n",
       "      <th>SaleAmount</th>\n",
       "      <th>OnProcess</th>\n",
       "      <th>DeliveryTime</th>\n",
       "    </tr>\n",
       "  </thead>\n",
       "  <tbody>\n",
       "    <tr>\n",
       "      <th>879</th>\n",
       "      <td>TOMSP</td>\n",
       "      <td>10438</td>\n",
       "      <td>34</td>\n",
       "      <td>1</td>\n",
       "      <td>Beverages</td>\n",
       "      <td>Sasquatch Ale</td>\n",
       "      <td>Toms Spezialitten</td>\n",
       "      <td>Mnster</td>\n",
       "      <td>Germany</td>\n",
       "      <td>1997-02-06</td>\n",
       "      <td>1997-03-06</td>\n",
       "      <td>1997-02-14</td>\n",
       "      <td>11.2</td>\n",
       "      <td>20</td>\n",
       "      <td>111</td>\n",
       "      <td>0</td>\n",
       "      <td>280.0</td>\n",
       "      <td>8 days</td>\n",
       "      <td>20 days</td>\n",
       "    </tr>\n",
       "    <tr>\n",
       "      <th>245</th>\n",
       "      <td>SEVES</td>\n",
       "      <td>10869</td>\n",
       "      <td>11</td>\n",
       "      <td>4</td>\n",
       "      <td>Dairy Products</td>\n",
       "      <td>Queso Cabrales</td>\n",
       "      <td>Seven Seas Imports</td>\n",
       "      <td>London</td>\n",
       "      <td>UK</td>\n",
       "      <td>1998-02-04</td>\n",
       "      <td>1998-03-04</td>\n",
       "      <td>1998-02-09</td>\n",
       "      <td>21.0</td>\n",
       "      <td>10</td>\n",
       "      <td>22</td>\n",
       "      <td>0</td>\n",
       "      <td>210.0</td>\n",
       "      <td>5 days</td>\n",
       "      <td>23 days</td>\n",
       "    </tr>\n",
       "    <tr>\n",
       "      <th>1063</th>\n",
       "      <td>FOLKO</td>\n",
       "      <td>10264</td>\n",
       "      <td>41</td>\n",
       "      <td>8</td>\n",
       "      <td>Seafood</td>\n",
       "      <td>Jack's New England Clam Chowder</td>\n",
       "      <td>Folk och f HB</td>\n",
       "      <td>Brcke</td>\n",
       "      <td>Sweden</td>\n",
       "      <td>1996-07-24</td>\n",
       "      <td>1996-08-21</td>\n",
       "      <td>1996-08-23</td>\n",
       "      <td>7.7</td>\n",
       "      <td>25</td>\n",
       "      <td>85</td>\n",
       "      <td>0</td>\n",
       "      <td>241.3</td>\n",
       "      <td>30 days</td>\n",
       "      <td>-2 days</td>\n",
       "    </tr>\n",
       "    <tr>\n",
       "      <th>403</th>\n",
       "      <td>ERNSH</td>\n",
       "      <td>10795</td>\n",
       "      <td>17</td>\n",
       "      <td>6</td>\n",
       "      <td>Meat/Poultry</td>\n",
       "      <td>Alice Mutton</td>\n",
       "      <td>Ernst Handel</td>\n",
       "      <td>Graz</td>\n",
       "      <td>Austria</td>\n",
       "      <td>1997-12-24</td>\n",
       "      <td>1998-01-21</td>\n",
       "      <td>1998-01-20</td>\n",
       "      <td>39.0</td>\n",
       "      <td>35</td>\n",
       "      <td>0</td>\n",
       "      <td>1</td>\n",
       "      <td>1365.0</td>\n",
       "      <td>27 days</td>\n",
       "      <td>1 days</td>\n",
       "    </tr>\n",
       "    <tr>\n",
       "      <th>2057</th>\n",
       "      <td>SAVEA</td>\n",
       "      <td>10722</td>\n",
       "      <td>75</td>\n",
       "      <td>1</td>\n",
       "      <td>Beverages</td>\n",
       "      <td>Rhnbru Klosterbier</td>\n",
       "      <td>Save-a-lot Markets</td>\n",
       "      <td>Boise</td>\n",
       "      <td>USA</td>\n",
       "      <td>1997-10-29</td>\n",
       "      <td>1997-12-10</td>\n",
       "      <td>1997-11-04</td>\n",
       "      <td>7.8</td>\n",
       "      <td>42</td>\n",
       "      <td>125</td>\n",
       "      <td>0</td>\n",
       "      <td>325.5</td>\n",
       "      <td>6 days</td>\n",
       "      <td>36 days</td>\n",
       "    </tr>\n",
       "  </tbody>\n",
       "</table>\n",
       "</div>"
      ],
      "text/plain": [
       "     CustomerID OrderID ProductID CategoryID    CategoryName  \\\n",
       "879       TOMSP   10438        34          1       Beverages   \n",
       "245       SEVES   10869        11          4  Dairy Products   \n",
       "1063      FOLKO   10264        41          8         Seafood   \n",
       "403       ERNSH   10795        17          6    Meat/Poultry   \n",
       "2057      SAVEA   10722        75          1       Beverages   \n",
       "\n",
       "                          ProductName         CompanyName    City  Country  \\\n",
       "879                     Sasquatch Ale   Toms Spezialitten  Mnster  Germany   \n",
       "245                    Queso Cabrales  Seven Seas Imports  London       UK   \n",
       "1063  Jack's New England Clam Chowder       Folk och f HB   Brcke   Sweden   \n",
       "403                      Alice Mutton        Ernst Handel    Graz  Austria   \n",
       "2057               Rhnbru Klosterbier  Save-a-lot Markets   Boise      USA   \n",
       "\n",
       "     Order_Date RequiredDate ShippedDate  UnitPrice  Quantity  UnitsInStock  \\\n",
       "879  1997-02-06   1997-03-06  1997-02-14       11.2        20           111   \n",
       "245  1998-02-04   1998-03-04  1998-02-09       21.0        10            22   \n",
       "1063 1996-07-24   1996-08-21  1996-08-23        7.7        25            85   \n",
       "403  1997-12-24   1998-01-21  1998-01-20       39.0        35             0   \n",
       "2057 1997-10-29   1997-12-10  1997-11-04        7.8        42           125   \n",
       "\n",
       "      Discontinued  SaleAmount OnProcess DeliveryTime  \n",
       "879              0       280.0    8 days      20 days  \n",
       "245              0       210.0    5 days      23 days  \n",
       "1063             0       241.3   30 days      -2 days  \n",
       "403              1      1365.0   27 days       1 days  \n",
       "2057             0       325.5    6 days      36 days  "
      ]
     },
     "execution_count": 33,
     "metadata": {},
     "output_type": "execute_result"
    }
   ],
   "source": [
    "tabel_A.sample(5)"
   ]
  },
  {
   "cell_type": "code",
   "execution_count": 34,
   "metadata": {},
   "outputs": [
    {
     "data": {
      "text/plain": [
       "7 days     271\n",
       "6 days     241\n",
       "3 days     187\n",
       "9 days     184\n",
       "5 days     177\n",
       "4 days     176\n",
       "8 days     174\n",
       "2 days     149\n",
       "10 days    129\n",
       "12 days     45\n",
       "1 days      43\n",
       "11 days     34\n",
       "19 days     23\n",
       "21 days     20\n",
       "18 days     19\n",
       "29 days     19\n",
       "13 days     17\n",
       "23 days     15\n",
       "32 days     15\n",
       "15 days     14\n",
       "20 days     13\n",
       "34 days     13\n",
       "25 days     13\n",
       "14 days     12\n",
       "35 days     12\n",
       "17 days     11\n",
       "22 days     11\n",
       "30 days     11\n",
       "24 days     11\n",
       "28 days      8\n",
       "26 days      5\n",
       "27 days      4\n",
       "31 days      3\n",
       "37 days      2\n",
       "16 days      1\n",
       "Name: OnProcess, dtype: int64"
      ]
     },
     "execution_count": 34,
     "metadata": {},
     "output_type": "execute_result"
    }
   ],
   "source": [
    "# Unique Value\n",
    "\n",
    "tabel_A['OnProcess'].value_counts()"
   ]
  },
  {
   "cell_type": "code",
   "execution_count": 35,
   "metadata": {},
   "outputs": [
    {
     "data": {
      "text/plain": [
       "21 days     227\n",
       "22 days     191\n",
       "23 days     165\n",
       "25 days     160\n",
       "19 days     159\n",
       "24 days     158\n",
       "26 days     145\n",
       "20 days     139\n",
       "18 days      98\n",
       "16 days      39\n",
       "7 days       37\n",
       "10 days      37\n",
       "27 days      35\n",
       "17 days      34\n",
       "5 days       31\n",
       "36 days      31\n",
       "8 days       30\n",
       "4 days       27\n",
       "9 days       24\n",
       "35 days      23\n",
       "34 days      23\n",
       "11 days      22\n",
       "6 days       21\n",
       "-1 days      20\n",
       "13 days      18\n",
       "-7 days      16\n",
       "39 days      16\n",
       "-6 days      15\n",
       "15 days      15\n",
       "32 days      15\n",
       "3 days       11\n",
       "0 days       10\n",
       "14 days       8\n",
       "-4 days       8\n",
       "30 days       6\n",
       "-2 days       6\n",
       "-5 days       6\n",
       "1 days        6\n",
       "33 days       6\n",
       "-16 days      5\n",
       "2 days        5\n",
       "12 days       5\n",
       "37 days       5\n",
       "-9 days       4\n",
       "-18 days      4\n",
       "41 days       3\n",
       "38 days       3\n",
       "-8 days       2\n",
       "-11 days      2\n",
       "-3 days       2\n",
       "28 days       2\n",
       "-23 days      1\n",
       "-17 days      1\n",
       "Name: DeliveryTime, dtype: int64"
      ]
     },
     "execution_count": 35,
     "metadata": {},
     "output_type": "execute_result"
    }
   ],
   "source": [
    "# Unique Value\n",
    "\n",
    "tabel_A['DeliveryTime'].value_counts()\n",
    "# Terdapat ada beberapa order produk yang mengalami keterlambatan sampai ke lokasi tujuan bedasarkan dari waktu produk dibutuhkan"
   ]
  },
  {
   "cell_type": "markdown",
   "metadata": {},
   "source": [
    "### **Anomali pada Delivery Time**"
   ]
  },
  {
   "cell_type": "markdown",
   "metadata": {},
   "source": [
    "Terdapat beberapa paket order yang diasumsikan terdapat kendala dalam pengiriman. Dalam kasus ini, kita asumsikan kendala tersebut berupa keterlambatan barang dari waktu yang ditentukan. Berikut merupakan data paket yang mengalami keterlambatan:\n",
    "\n",
    "1. -1 days      = 20 paket\n",
    "2. -7 days      = 16 paket\n",
    "3. -6 days      = 15 paket\n",
    "4. -4 days      = 8 paket\n",
    "5. -5 days      = 2 paket\n",
    "6. -2 days      = 2 paket\n",
    "7. -16 days     = 5 paket\n",
    "8. -9 days      = 4 paket\n",
    "9. -18 days     = 4 paket\n",
    "10. -8 days     = 2 paket\n",
    "11. -11 days    = 2 paket\n",
    "12. -3 days     = 2 paket\n",
    "13. -23 days    = 1 paket\n",
    "14. -17 days    = 1 paket\n",
    "\n",
    "Total paket yang mengalami keterlambatan sebanyak: 84 paket"
   ]
  },
  {
   "cell_type": "markdown",
   "metadata": {},
   "source": [
    "## **Ubah value dari feature 'Discontinued'**"
   ]
  },
  {
   "cell_type": "code",
   "execution_count": 36,
   "metadata": {},
   "outputs": [
    {
     "data": {
      "text/plain": [
       "0       no\n",
       "1       no\n",
       "2       no\n",
       "3       no\n",
       "4       no\n",
       "        ..\n",
       "2148    no\n",
       "2149    no\n",
       "2150    no\n",
       "2151    no\n",
       "2152    no\n",
       "Name: Discontinued, Length: 2082, dtype: object"
      ]
     },
     "execution_count": 36,
     "metadata": {},
     "output_type": "execute_result"
    }
   ],
   "source": [
    "tabel_A['Discontinued'] = tabel_A['Discontinued'].apply(lambda x: 'yes' if x > 0 else 'no')\n",
    "tabel_A['Discontinued']"
   ]
  },
  {
   "cell_type": "code",
   "execution_count": 37,
   "metadata": {},
   "outputs": [
    {
     "data": {
      "text/html": [
       "<div>\n",
       "<style scoped>\n",
       "    .dataframe tbody tr th:only-of-type {\n",
       "        vertical-align: middle;\n",
       "    }\n",
       "\n",
       "    .dataframe tbody tr th {\n",
       "        vertical-align: top;\n",
       "    }\n",
       "\n",
       "    .dataframe thead th {\n",
       "        text-align: right;\n",
       "    }\n",
       "</style>\n",
       "<table border=\"1\" class=\"dataframe\">\n",
       "  <thead>\n",
       "    <tr style=\"text-align: right;\">\n",
       "      <th></th>\n",
       "      <th>CustomerID</th>\n",
       "      <th>OrderID</th>\n",
       "      <th>ProductID</th>\n",
       "      <th>CategoryID</th>\n",
       "      <th>CategoryName</th>\n",
       "      <th>ProductName</th>\n",
       "      <th>CompanyName</th>\n",
       "      <th>City</th>\n",
       "      <th>Country</th>\n",
       "      <th>Order_Date</th>\n",
       "      <th>RequiredDate</th>\n",
       "      <th>ShippedDate</th>\n",
       "      <th>UnitPrice</th>\n",
       "      <th>Quantity</th>\n",
       "      <th>UnitsInStock</th>\n",
       "      <th>Discontinued</th>\n",
       "      <th>SaleAmount</th>\n",
       "      <th>OnProcess</th>\n",
       "      <th>DeliveryTime</th>\n",
       "    </tr>\n",
       "  </thead>\n",
       "  <tbody>\n",
       "    <tr>\n",
       "      <th>0</th>\n",
       "      <td>QUICK</td>\n",
       "      <td>10285</td>\n",
       "      <td>1</td>\n",
       "      <td>1</td>\n",
       "      <td>Beverages</td>\n",
       "      <td>Chai</td>\n",
       "      <td>QUICK-Stop</td>\n",
       "      <td>Cunewalde</td>\n",
       "      <td>Germany</td>\n",
       "      <td>1996-08-20</td>\n",
       "      <td>1996-09-17</td>\n",
       "      <td>1996-08-26</td>\n",
       "      <td>14.4</td>\n",
       "      <td>45</td>\n",
       "      <td>39</td>\n",
       "      <td>no</td>\n",
       "      <td>810.0</td>\n",
       "      <td>6 days</td>\n",
       "      <td>22 days</td>\n",
       "    </tr>\n",
       "    <tr>\n",
       "      <th>1</th>\n",
       "      <td>RATTC</td>\n",
       "      <td>10294</td>\n",
       "      <td>1</td>\n",
       "      <td>1</td>\n",
       "      <td>Beverages</td>\n",
       "      <td>Chai</td>\n",
       "      <td>Rattlesnake Canyon Grocery</td>\n",
       "      <td>Albuquerque</td>\n",
       "      <td>USA</td>\n",
       "      <td>1996-08-30</td>\n",
       "      <td>1996-09-27</td>\n",
       "      <td>1996-09-05</td>\n",
       "      <td>14.4</td>\n",
       "      <td>18</td>\n",
       "      <td>39</td>\n",
       "      <td>no</td>\n",
       "      <td>324.0</td>\n",
       "      <td>6 days</td>\n",
       "      <td>22 days</td>\n",
       "    </tr>\n",
       "    <tr>\n",
       "      <th>2</th>\n",
       "      <td>LONEP</td>\n",
       "      <td>10317</td>\n",
       "      <td>1</td>\n",
       "      <td>1</td>\n",
       "      <td>Beverages</td>\n",
       "      <td>Chai</td>\n",
       "      <td>Lonesome Pine Restaurant</td>\n",
       "      <td>Portland</td>\n",
       "      <td>USA</td>\n",
       "      <td>1996-09-30</td>\n",
       "      <td>1996-10-28</td>\n",
       "      <td>1996-10-10</td>\n",
       "      <td>14.4</td>\n",
       "      <td>20</td>\n",
       "      <td>39</td>\n",
       "      <td>no</td>\n",
       "      <td>360.0</td>\n",
       "      <td>10 days</td>\n",
       "      <td>18 days</td>\n",
       "    </tr>\n",
       "    <tr>\n",
       "      <th>3</th>\n",
       "      <td>WANDK</td>\n",
       "      <td>10348</td>\n",
       "      <td>1</td>\n",
       "      <td>1</td>\n",
       "      <td>Beverages</td>\n",
       "      <td>Chai</td>\n",
       "      <td>Die Wandernde Kuh</td>\n",
       "      <td>Stuttgart</td>\n",
       "      <td>Germany</td>\n",
       "      <td>1996-11-07</td>\n",
       "      <td>1996-12-05</td>\n",
       "      <td>1996-11-15</td>\n",
       "      <td>14.4</td>\n",
       "      <td>15</td>\n",
       "      <td>39</td>\n",
       "      <td>no</td>\n",
       "      <td>270.0</td>\n",
       "      <td>8 days</td>\n",
       "      <td>20 days</td>\n",
       "    </tr>\n",
       "    <tr>\n",
       "      <th>4</th>\n",
       "      <td>PERIC</td>\n",
       "      <td>10354</td>\n",
       "      <td>1</td>\n",
       "      <td>1</td>\n",
       "      <td>Beverages</td>\n",
       "      <td>Chai</td>\n",
       "      <td>Pericles Comidas clsicas</td>\n",
       "      <td>Mxico D.F.</td>\n",
       "      <td>Mexico</td>\n",
       "      <td>1996-11-14</td>\n",
       "      <td>1996-12-12</td>\n",
       "      <td>1996-11-20</td>\n",
       "      <td>14.4</td>\n",
       "      <td>12</td>\n",
       "      <td>39</td>\n",
       "      <td>no</td>\n",
       "      <td>216.0</td>\n",
       "      <td>6 days</td>\n",
       "      <td>22 days</td>\n",
       "    </tr>\n",
       "  </tbody>\n",
       "</table>\n",
       "</div>"
      ],
      "text/plain": [
       "  CustomerID OrderID ProductID CategoryID CategoryName ProductName  \\\n",
       "0      QUICK   10285         1          1    Beverages        Chai   \n",
       "1      RATTC   10294         1          1    Beverages        Chai   \n",
       "2      LONEP   10317         1          1    Beverages        Chai   \n",
       "3      WANDK   10348         1          1    Beverages        Chai   \n",
       "4      PERIC   10354         1          1    Beverages        Chai   \n",
       "\n",
       "                  CompanyName         City  Country Order_Date RequiredDate  \\\n",
       "0                  QUICK-Stop    Cunewalde  Germany 1996-08-20   1996-09-17   \n",
       "1  Rattlesnake Canyon Grocery  Albuquerque      USA 1996-08-30   1996-09-27   \n",
       "2    Lonesome Pine Restaurant     Portland      USA 1996-09-30   1996-10-28   \n",
       "3           Die Wandernde Kuh    Stuttgart  Germany 1996-11-07   1996-12-05   \n",
       "4    Pericles Comidas clsicas   Mxico D.F.   Mexico 1996-11-14   1996-12-12   \n",
       "\n",
       "  ShippedDate  UnitPrice  Quantity  UnitsInStock Discontinued  SaleAmount  \\\n",
       "0  1996-08-26       14.4        45            39           no       810.0   \n",
       "1  1996-09-05       14.4        18            39           no       324.0   \n",
       "2  1996-10-10       14.4        20            39           no       360.0   \n",
       "3  1996-11-15       14.4        15            39           no       270.0   \n",
       "4  1996-11-20       14.4        12            39           no       216.0   \n",
       "\n",
       "  OnProcess DeliveryTime  \n",
       "0    6 days      22 days  \n",
       "1    6 days      22 days  \n",
       "2   10 days      18 days  \n",
       "3    8 days      20 days  \n",
       "4    6 days      22 days  "
      ]
     },
     "execution_count": 37,
     "metadata": {},
     "output_type": "execute_result"
    }
   ],
   "source": [
    "tabel_A.head()"
   ]
  },
  {
   "cell_type": "code",
   "execution_count": 38,
   "metadata": {},
   "outputs": [
    {
     "data": {
      "text/html": [
       "<div>\n",
       "<style scoped>\n",
       "    .dataframe tbody tr th:only-of-type {\n",
       "        vertical-align: middle;\n",
       "    }\n",
       "\n",
       "    .dataframe tbody tr th {\n",
       "        vertical-align: top;\n",
       "    }\n",
       "\n",
       "    .dataframe thead th {\n",
       "        text-align: right;\n",
       "    }\n",
       "</style>\n",
       "<table border=\"1\" class=\"dataframe\">\n",
       "  <thead>\n",
       "    <tr style=\"text-align: right;\">\n",
       "      <th></th>\n",
       "      <th>UnitPrice</th>\n",
       "      <th>Quantity</th>\n",
       "      <th>UnitsInStock</th>\n",
       "      <th>SaleAmount</th>\n",
       "      <th>OnProcess</th>\n",
       "      <th>DeliveryTime</th>\n",
       "    </tr>\n",
       "  </thead>\n",
       "  <tbody>\n",
       "    <tr>\n",
       "      <th>count</th>\n",
       "      <td>2082.000000</td>\n",
       "      <td>2082.000000</td>\n",
       "      <td>2082.000000</td>\n",
       "      <td>2082.000000</td>\n",
       "      <td>2082</td>\n",
       "      <td>2082</td>\n",
       "    </tr>\n",
       "    <tr>\n",
       "      <th>mean</th>\n",
       "      <td>26.384438</td>\n",
       "      <td>24.072526</td>\n",
       "      <td>39.762728</td>\n",
       "      <td>682.963064</td>\n",
       "      <td>8 days 08:17:17.463976945</td>\n",
       "      <td>19 days 11:11:35.100864553</td>\n",
       "    </tr>\n",
       "    <tr>\n",
       "      <th>std</th>\n",
       "      <td>30.222844</td>\n",
       "      <td>18.890082</td>\n",
       "      <td>36.062315</td>\n",
       "      <td>1121.103449</td>\n",
       "      <td>6 days 16:37:41.880301151</td>\n",
       "      <td>8 days 20:21:36.956543429</td>\n",
       "    </tr>\n",
       "    <tr>\n",
       "      <th>min</th>\n",
       "      <td>2.000000</td>\n",
       "      <td>1.000000</td>\n",
       "      <td>0.000000</td>\n",
       "      <td>6.000000</td>\n",
       "      <td>1 days 00:00:00</td>\n",
       "      <td>-23 days +00:00:00</td>\n",
       "    </tr>\n",
       "    <tr>\n",
       "      <th>25%</th>\n",
       "      <td>12.000000</td>\n",
       "      <td>10.000000</td>\n",
       "      <td>17.000000</td>\n",
       "      <td>180.000000</td>\n",
       "      <td>4 days 00:00:00</td>\n",
       "      <td>18 days 00:00:00</td>\n",
       "    </tr>\n",
       "    <tr>\n",
       "      <th>50%</th>\n",
       "      <td>18.400000</td>\n",
       "      <td>20.000000</td>\n",
       "      <td>25.000000</td>\n",
       "      <td>385.700000</td>\n",
       "      <td>7 days 00:00:00</td>\n",
       "      <td>21 days 00:00:00</td>\n",
       "    </tr>\n",
       "    <tr>\n",
       "      <th>75%</th>\n",
       "      <td>32.000000</td>\n",
       "      <td>30.000000</td>\n",
       "      <td>57.000000</td>\n",
       "      <td>772.600000</td>\n",
       "      <td>9 days 00:00:00</td>\n",
       "      <td>24 days 00:00:00</td>\n",
       "    </tr>\n",
       "    <tr>\n",
       "      <th>max</th>\n",
       "      <td>263.500000</td>\n",
       "      <td>130.000000</td>\n",
       "      <td>125.000000</td>\n",
       "      <td>15810.000000</td>\n",
       "      <td>37 days 00:00:00</td>\n",
       "      <td>41 days 00:00:00</td>\n",
       "    </tr>\n",
       "  </tbody>\n",
       "</table>\n",
       "</div>"
      ],
      "text/plain": [
       "         UnitPrice     Quantity  UnitsInStock    SaleAmount  \\\n",
       "count  2082.000000  2082.000000   2082.000000   2082.000000   \n",
       "mean     26.384438    24.072526     39.762728    682.963064   \n",
       "std      30.222844    18.890082     36.062315   1121.103449   \n",
       "min       2.000000     1.000000      0.000000      6.000000   \n",
       "25%      12.000000    10.000000     17.000000    180.000000   \n",
       "50%      18.400000    20.000000     25.000000    385.700000   \n",
       "75%      32.000000    30.000000     57.000000    772.600000   \n",
       "max     263.500000   130.000000    125.000000  15810.000000   \n",
       "\n",
       "                       OnProcess                DeliveryTime  \n",
       "count                       2082                        2082  \n",
       "mean   8 days 08:17:17.463976945  19 days 11:11:35.100864553  \n",
       "std    6 days 16:37:41.880301151   8 days 20:21:36.956543429  \n",
       "min              1 days 00:00:00          -23 days +00:00:00  \n",
       "25%              4 days 00:00:00            18 days 00:00:00  \n",
       "50%              7 days 00:00:00            21 days 00:00:00  \n",
       "75%              9 days 00:00:00            24 days 00:00:00  \n",
       "max             37 days 00:00:00            41 days 00:00:00  "
      ]
     },
     "execution_count": 38,
     "metadata": {},
     "output_type": "execute_result"
    }
   ],
   "source": [
    "tabel_A.describe()"
   ]
  },
  {
   "cell_type": "markdown",
   "metadata": {},
   "source": [
    "## **Pengecekan Harga Per Unit Produk**"
   ]
  },
  {
   "cell_type": "code",
   "execution_count": 39,
   "metadata": {},
   "outputs": [
    {
     "data": {
      "text/plain": [
       "ProductName    1\n",
       "UnitPrice      2\n",
       "dtype: int64"
      ]
     },
     "execution_count": 39,
     "metadata": {},
     "output_type": "execute_result"
    }
   ],
   "source": [
    "tabel_A[tabel_A['ProductName']=='Guaran Fantstica'][['ProductName','UnitPrice']].nunique()"
   ]
  },
  {
   "cell_type": "code",
   "execution_count": 40,
   "metadata": {},
   "outputs": [
    {
     "data": {
      "text/html": [
       "<div>\n",
       "<style scoped>\n",
       "    .dataframe tbody tr th:only-of-type {\n",
       "        vertical-align: middle;\n",
       "    }\n",
       "\n",
       "    .dataframe tbody tr th {\n",
       "        vertical-align: top;\n",
       "    }\n",
       "\n",
       "    .dataframe thead th {\n",
       "        text-align: right;\n",
       "    }\n",
       "</style>\n",
       "<table border=\"1\" class=\"dataframe\">\n",
       "  <thead>\n",
       "    <tr style=\"text-align: right;\">\n",
       "      <th></th>\n",
       "      <th>ProductName</th>\n",
       "      <th>UnitPrice</th>\n",
       "    </tr>\n",
       "  </thead>\n",
       "  <tbody>\n",
       "    <tr>\n",
       "      <th>598</th>\n",
       "      <td>Guaran Fantstica</td>\n",
       "      <td>4.5</td>\n",
       "    </tr>\n",
       "    <tr>\n",
       "      <th>592</th>\n",
       "      <td>Guaran Fantstica</td>\n",
       "      <td>4.5</td>\n",
       "    </tr>\n",
       "    <tr>\n",
       "      <th>575</th>\n",
       "      <td>Guaran Fantstica</td>\n",
       "      <td>3.6</td>\n",
       "    </tr>\n",
       "    <tr>\n",
       "      <th>615</th>\n",
       "      <td>Guaran Fantstica</td>\n",
       "      <td>4.5</td>\n",
       "    </tr>\n",
       "    <tr>\n",
       "      <th>585</th>\n",
       "      <td>Guaran Fantstica</td>\n",
       "      <td>4.5</td>\n",
       "    </tr>\n",
       "  </tbody>\n",
       "</table>\n",
       "</div>"
      ],
      "text/plain": [
       "          ProductName  UnitPrice\n",
       "598  Guaran Fantstica        4.5\n",
       "592  Guaran Fantstica        4.5\n",
       "575  Guaran Fantstica        3.6\n",
       "615  Guaran Fantstica        4.5\n",
       "585  Guaran Fantstica        4.5"
      ]
     },
     "execution_count": 40,
     "metadata": {},
     "output_type": "execute_result"
    }
   ],
   "source": [
    "tabel_A[tabel_A['ProductName']=='Guaran Fantstica'][['ProductName','UnitPrice']].sample(5)"
   ]
  },
  {
   "cell_type": "markdown",
   "metadata": {},
   "source": [
    "- Dari salah satu produk tersebut menggambarkan bahwa terdapat ada beberapa harga per unit dari produk yang sama. Sehingga harus diambil keputusan, untuk menganalisis average dari unit per price tiap produk."
   ]
  },
  {
   "cell_type": "markdown",
   "metadata": {},
   "source": [
    "***\n",
    "## **GENERAL CLEANED DATA**"
   ]
  },
  {
   "cell_type": "code",
   "execution_count": 41,
   "metadata": {},
   "outputs": [
    {
     "data": {
      "text/html": [
       "<div>\n",
       "<style scoped>\n",
       "    .dataframe tbody tr th:only-of-type {\n",
       "        vertical-align: middle;\n",
       "    }\n",
       "\n",
       "    .dataframe tbody tr th {\n",
       "        vertical-align: top;\n",
       "    }\n",
       "\n",
       "    .dataframe thead th {\n",
       "        text-align: right;\n",
       "    }\n",
       "</style>\n",
       "<table border=\"1\" class=\"dataframe\">\n",
       "  <thead>\n",
       "    <tr style=\"text-align: right;\">\n",
       "      <th></th>\n",
       "      <th>Column Name</th>\n",
       "      <th>Data Type</th>\n",
       "      <th>Data Count</th>\n",
       "      <th>Missing Value</th>\n",
       "      <th>Missing Value Percentage</th>\n",
       "      <th>Member of Unique</th>\n",
       "      <th>Unique Sample</th>\n",
       "    </tr>\n",
       "  </thead>\n",
       "  <tbody>\n",
       "    <tr>\n",
       "      <th>0</th>\n",
       "      <td>CustomerID</td>\n",
       "      <td>object</td>\n",
       "      <td>2082</td>\n",
       "      <td>0</td>\n",
       "      <td>0.0</td>\n",
       "      <td>89</td>\n",
       "      <td>[ANTON, ALFKI]</td>\n",
       "    </tr>\n",
       "    <tr>\n",
       "      <th>1</th>\n",
       "      <td>OrderID</td>\n",
       "      <td>object</td>\n",
       "      <td>2082</td>\n",
       "      <td>0</td>\n",
       "      <td>0.0</td>\n",
       "      <td>809</td>\n",
       "      <td>[10818, 10566]</td>\n",
       "    </tr>\n",
       "    <tr>\n",
       "      <th>2</th>\n",
       "      <td>ProductID</td>\n",
       "      <td>object</td>\n",
       "      <td>2082</td>\n",
       "      <td>0</td>\n",
       "      <td>0.0</td>\n",
       "      <td>77</td>\n",
       "      <td>[62, 19]</td>\n",
       "    </tr>\n",
       "    <tr>\n",
       "      <th>3</th>\n",
       "      <td>CategoryID</td>\n",
       "      <td>object</td>\n",
       "      <td>2082</td>\n",
       "      <td>0</td>\n",
       "      <td>0.0</td>\n",
       "      <td>8</td>\n",
       "      <td>[8, 2]</td>\n",
       "    </tr>\n",
       "    <tr>\n",
       "      <th>4</th>\n",
       "      <td>CategoryName</td>\n",
       "      <td>object</td>\n",
       "      <td>2082</td>\n",
       "      <td>0</td>\n",
       "      <td>0.0</td>\n",
       "      <td>8</td>\n",
       "      <td>[Produce, Seafood]</td>\n",
       "    </tr>\n",
       "    <tr>\n",
       "      <th>5</th>\n",
       "      <td>ProductName</td>\n",
       "      <td>object</td>\n",
       "      <td>2082</td>\n",
       "      <td>0</td>\n",
       "      <td>0.0</td>\n",
       "      <td>77</td>\n",
       "      <td>[Boston Crab Meat, Perth Pasties]</td>\n",
       "    </tr>\n",
       "    <tr>\n",
       "      <th>6</th>\n",
       "      <td>CompanyName</td>\n",
       "      <td>object</td>\n",
       "      <td>2082</td>\n",
       "      <td>0</td>\n",
       "      <td>0.0</td>\n",
       "      <td>89</td>\n",
       "      <td>[La corne d'abondance, Tortuga Restaurante]</td>\n",
       "    </tr>\n",
       "    <tr>\n",
       "      <th>7</th>\n",
       "      <td>City</td>\n",
       "      <td>object</td>\n",
       "      <td>2082</td>\n",
       "      <td>0</td>\n",
       "      <td>0.0</td>\n",
       "      <td>69</td>\n",
       "      <td>[Strasbourg, Genve]</td>\n",
       "    </tr>\n",
       "    <tr>\n",
       "      <th>8</th>\n",
       "      <td>Country</td>\n",
       "      <td>object</td>\n",
       "      <td>2082</td>\n",
       "      <td>0</td>\n",
       "      <td>0.0</td>\n",
       "      <td>21</td>\n",
       "      <td>[Austria, Switzerland]</td>\n",
       "    </tr>\n",
       "    <tr>\n",
       "      <th>9</th>\n",
       "      <td>Order_Date</td>\n",
       "      <td>datetime64[ns]</td>\n",
       "      <td>2082</td>\n",
       "      <td>0</td>\n",
       "      <td>0.0</td>\n",
       "      <td>478</td>\n",
       "      <td>[1996-10-04T00:00:00.000000000, 1996-08-02T00:...</td>\n",
       "    </tr>\n",
       "    <tr>\n",
       "      <th>10</th>\n",
       "      <td>RequiredDate</td>\n",
       "      <td>datetime64[ns]</td>\n",
       "      <td>2082</td>\n",
       "      <td>0</td>\n",
       "      <td>0.0</td>\n",
       "      <td>450</td>\n",
       "      <td>[1996-10-24T00:00:00.000000000, 1997-02-13T00:...</td>\n",
       "    </tr>\n",
       "    <tr>\n",
       "      <th>11</th>\n",
       "      <td>ShippedDate</td>\n",
       "      <td>datetime64[ns]</td>\n",
       "      <td>2082</td>\n",
       "      <td>0</td>\n",
       "      <td>0.0</td>\n",
       "      <td>387</td>\n",
       "      <td>[1998-03-30T00:00:00.000000000, 1997-10-14T00:...</td>\n",
       "    </tr>\n",
       "    <tr>\n",
       "      <th>12</th>\n",
       "      <td>UnitPrice</td>\n",
       "      <td>float64</td>\n",
       "      <td>2082</td>\n",
       "      <td>0</td>\n",
       "      <td>0.0</td>\n",
       "      <td>114</td>\n",
       "      <td>[123.8, 22.0]</td>\n",
       "    </tr>\n",
       "    <tr>\n",
       "      <th>13</th>\n",
       "      <td>Quantity</td>\n",
       "      <td>int64</td>\n",
       "      <td>2082</td>\n",
       "      <td>0</td>\n",
       "      <td>0.0</td>\n",
       "      <td>54</td>\n",
       "      <td>[9, 65]</td>\n",
       "    </tr>\n",
       "    <tr>\n",
       "      <th>14</th>\n",
       "      <td>UnitsInStock</td>\n",
       "      <td>int64</td>\n",
       "      <td>2082</td>\n",
       "      <td>0</td>\n",
       "      <td>0.0</td>\n",
       "      <td>51</td>\n",
       "      <td>[104, 115]</td>\n",
       "    </tr>\n",
       "    <tr>\n",
       "      <th>15</th>\n",
       "      <td>Discontinued</td>\n",
       "      <td>object</td>\n",
       "      <td>2082</td>\n",
       "      <td>0</td>\n",
       "      <td>0.0</td>\n",
       "      <td>2</td>\n",
       "      <td>[yes, no]</td>\n",
       "    </tr>\n",
       "    <tr>\n",
       "      <th>16</th>\n",
       "      <td>SaleAmount</td>\n",
       "      <td>float64</td>\n",
       "      <td>2082</td>\n",
       "      <td>0</td>\n",
       "      <td>0.0</td>\n",
       "      <td>708</td>\n",
       "      <td>[233.4, 912.0]</td>\n",
       "    </tr>\n",
       "    <tr>\n",
       "      <th>17</th>\n",
       "      <td>OnProcess</td>\n",
       "      <td>timedelta64[ns]</td>\n",
       "      <td>2082</td>\n",
       "      <td>0</td>\n",
       "      <td>0.0</td>\n",
       "      <td>35</td>\n",
       "      <td>[1987200000000000 nanoseconds, 259200000000000...</td>\n",
       "    </tr>\n",
       "    <tr>\n",
       "      <th>18</th>\n",
       "      <td>DeliveryTime</td>\n",
       "      <td>timedelta64[ns]</td>\n",
       "      <td>2082</td>\n",
       "      <td>0</td>\n",
       "      <td>0.0</td>\n",
       "      <td>53</td>\n",
       "      <td>[-1382400000000000 nanoseconds, 20736000000000...</td>\n",
       "    </tr>\n",
       "  </tbody>\n",
       "</table>\n",
       "</div>"
      ],
      "text/plain": [
       "     Column Name        Data Type   Data Count  Missing Value  \\\n",
       "0     CustomerID           object         2082              0   \n",
       "1        OrderID           object         2082              0   \n",
       "2      ProductID           object         2082              0   \n",
       "3     CategoryID           object         2082              0   \n",
       "4   CategoryName           object         2082              0   \n",
       "5    ProductName           object         2082              0   \n",
       "6    CompanyName           object         2082              0   \n",
       "7           City           object         2082              0   \n",
       "8        Country           object         2082              0   \n",
       "9     Order_Date   datetime64[ns]         2082              0   \n",
       "10  RequiredDate   datetime64[ns]         2082              0   \n",
       "11   ShippedDate   datetime64[ns]         2082              0   \n",
       "12     UnitPrice          float64         2082              0   \n",
       "13      Quantity            int64         2082              0   \n",
       "14  UnitsInStock            int64         2082              0   \n",
       "15  Discontinued           object         2082              0   \n",
       "16    SaleAmount          float64         2082              0   \n",
       "17     OnProcess  timedelta64[ns]         2082              0   \n",
       "18  DeliveryTime  timedelta64[ns]         2082              0   \n",
       "\n",
       "    Missing Value Percentage  Member of Unique  \\\n",
       "0                        0.0                89   \n",
       "1                        0.0               809   \n",
       "2                        0.0                77   \n",
       "3                        0.0                 8   \n",
       "4                        0.0                 8   \n",
       "5                        0.0                77   \n",
       "6                        0.0                89   \n",
       "7                        0.0                69   \n",
       "8                        0.0                21   \n",
       "9                        0.0               478   \n",
       "10                       0.0               450   \n",
       "11                       0.0               387   \n",
       "12                       0.0               114   \n",
       "13                       0.0                54   \n",
       "14                       0.0                51   \n",
       "15                       0.0                 2   \n",
       "16                       0.0               708   \n",
       "17                       0.0                35   \n",
       "18                       0.0                53   \n",
       "\n",
       "                                        Unique Sample  \n",
       "0                                      [ANTON, ALFKI]  \n",
       "1                                      [10818, 10566]  \n",
       "2                                            [62, 19]  \n",
       "3                                              [8, 2]  \n",
       "4                                  [Produce, Seafood]  \n",
       "5                   [Boston Crab Meat, Perth Pasties]  \n",
       "6         [La corne d'abondance, Tortuga Restaurante]  \n",
       "7                                 [Strasbourg, Genve]  \n",
       "8                              [Austria, Switzerland]  \n",
       "9   [1996-10-04T00:00:00.000000000, 1996-08-02T00:...  \n",
       "10  [1996-10-24T00:00:00.000000000, 1997-02-13T00:...  \n",
       "11  [1998-03-30T00:00:00.000000000, 1997-10-14T00:...  \n",
       "12                                      [123.8, 22.0]  \n",
       "13                                            [9, 65]  \n",
       "14                                         [104, 115]  \n",
       "15                                          [yes, no]  \n",
       "16                                     [233.4, 912.0]  \n",
       "17  [1987200000000000 nanoseconds, 259200000000000...  \n",
       "18  [-1382400000000000 nanoseconds, 20736000000000...  "
      ]
     },
     "execution_count": 41,
     "metadata": {},
     "output_type": "execute_result"
    }
   ],
   "source": [
    "listItem = []\n",
    "for col in tabel_A.columns:\n",
    "    listItem.append([col, tabel_A[col].dtype, len(tabel_A), tabel_A[col].isna().sum(), round((tabel_A[col].isna().sum()/len(tabel_A[col]))* 100, 2),\n",
    "                    tabel_A[col].nunique(), list(tabel_A[col].drop_duplicates().sample(2).values)])\n",
    "\n",
    "tabel_ADesc = pd.DataFrame(columns=['Column Name', 'Data Type',' Data Count', 'Missing Value', 'Missing Value Percentage', 'Member of Unique', 'Unique Sample'],\n",
    "                    data=listItem)\n",
    "tabel_ADesc"
   ]
  },
  {
   "cell_type": "markdown",
   "metadata": {},
   "source": [
    "***\n",
    "## **Correlation**"
   ]
  },
  {
   "cell_type": "code",
   "execution_count": 44,
   "metadata": {},
   "outputs": [
    {
     "data": {
      "text/html": [
       "<div>\n",
       "<style scoped>\n",
       "    .dataframe tbody tr th:only-of-type {\n",
       "        vertical-align: middle;\n",
       "    }\n",
       "\n",
       "    .dataframe tbody tr th {\n",
       "        vertical-align: top;\n",
       "    }\n",
       "\n",
       "    .dataframe thead th {\n",
       "        text-align: right;\n",
       "    }\n",
       "</style>\n",
       "<table border=\"1\" class=\"dataframe\">\n",
       "  <thead>\n",
       "    <tr style=\"text-align: right;\">\n",
       "      <th></th>\n",
       "      <th>UnitPrice</th>\n",
       "      <th>Quantity</th>\n",
       "      <th>SaleAmount</th>\n",
       "    </tr>\n",
       "  </thead>\n",
       "  <tbody>\n",
       "    <tr>\n",
       "      <th>UnitPrice</th>\n",
       "      <td>1.000000</td>\n",
       "      <td>0.011724</td>\n",
       "      <td>0.635532</td>\n",
       "    </tr>\n",
       "    <tr>\n",
       "      <th>Quantity</th>\n",
       "      <td>0.011724</td>\n",
       "      <td>1.000000</td>\n",
       "      <td>0.734559</td>\n",
       "    </tr>\n",
       "    <tr>\n",
       "      <th>SaleAmount</th>\n",
       "      <td>0.635532</td>\n",
       "      <td>0.734559</td>\n",
       "      <td>1.000000</td>\n",
       "    </tr>\n",
       "  </tbody>\n",
       "</table>\n",
       "</div>"
      ],
      "text/plain": [
       "            UnitPrice  Quantity  SaleAmount\n",
       "UnitPrice    1.000000  0.011724    0.635532\n",
       "Quantity     0.011724  1.000000    0.734559\n",
       "SaleAmount   0.635532  0.734559    1.000000"
      ]
     },
     "execution_count": 44,
     "metadata": {},
     "output_type": "execute_result"
    }
   ],
   "source": [
    "corr_tabel_A = tabel_A[['UnitPrice','Quantity','SaleAmount']].corr('spearman')\n",
    "corr_tabel_A"
   ]
  },
  {
   "cell_type": "code",
   "execution_count": 45,
   "metadata": {},
   "outputs": [
    {
     "data": {
      "image/png": "[encoded data removed]",
      "text/plain": [
       "<Figure size 1008x720 with 2 Axes>"
      ]
     },
     "metadata": {},
     "output_type": "display_data"
    }
   ],
   "source": [
    "plt.figure(figsize=(14,10))\n",
    "sns.heatmap(data=corr_tabel_A, center=0, annot= True)\n",
    "# annot = memunculkan nilai korelasi\n",
    "# center = mengubah warna + menggunakan cmap\n",
    "plt.show()"
   ]
  },
  {
   "cell_type": "code",
   "execution_count": 46,
   "metadata": {},
   "outputs": [
    {
     "data": {
      "image/png": "[encoded data removed]",
      "text/plain": [
       "<Figure size 1080x720 with 1 Axes>"
      ]
     },
     "metadata": {},
     "output_type": "display_data"
    }
   ],
   "source": [
    "# Korelasi Antara Quantity dan SaleAmount\n",
    "\n",
    "plt.figure(figsize=(15,10))\n",
    "sns.regplot(data=tabel_A, x='Quantity', y='SaleAmount')\n",
    "plt.show()"
   ]
  },
  {
   "cell_type": "code",
   "execution_count": 47,
   "metadata": {},
   "outputs": [
    {
     "data": {
      "text/html": [
       "<div>\n",
       "<style scoped>\n",
       "    .dataframe tbody tr th:only-of-type {\n",
       "        vertical-align: middle;\n",
       "    }\n",
       "\n",
       "    .dataframe tbody tr th {\n",
       "        vertical-align: top;\n",
       "    }\n",
       "\n",
       "    .dataframe thead th {\n",
       "        text-align: right;\n",
       "    }\n",
       "</style>\n",
       "<table border=\"1\" class=\"dataframe\">\n",
       "  <thead>\n",
       "    <tr style=\"text-align: right;\">\n",
       "      <th></th>\n",
       "      <th>CustomerID</th>\n",
       "      <th>OrderID</th>\n",
       "      <th>ProductID</th>\n",
       "      <th>CategoryID</th>\n",
       "      <th>CategoryName</th>\n",
       "      <th>ProductName</th>\n",
       "      <th>CompanyName</th>\n",
       "      <th>City</th>\n",
       "      <th>Country</th>\n",
       "      <th>Order_Date</th>\n",
       "      <th>...</th>\n",
       "      <th>ShippedDate</th>\n",
       "      <th>UnitPrice</th>\n",
       "      <th>Quantity</th>\n",
       "      <th>UnitsInStock</th>\n",
       "      <th>Discontinued</th>\n",
       "      <th>SaleAmount</th>\n",
       "      <th>OnProcess</th>\n",
       "      <th>DeliveryTime</th>\n",
       "      <th>Month</th>\n",
       "      <th>Year</th>\n",
       "    </tr>\n",
       "  </thead>\n",
       "  <tbody>\n",
       "    <tr>\n",
       "      <th>0</th>\n",
       "      <td>QUICK</td>\n",
       "      <td>10285</td>\n",
       "      <td>1</td>\n",
       "      <td>1</td>\n",
       "      <td>Beverages</td>\n",
       "      <td>Chai</td>\n",
       "      <td>QUICK-Stop</td>\n",
       "      <td>Cunewalde</td>\n",
       "      <td>Germany</td>\n",
       "      <td>1996-08-20</td>\n",
       "      <td>...</td>\n",
       "      <td>1996-08-26</td>\n",
       "      <td>14.4</td>\n",
       "      <td>45</td>\n",
       "      <td>39</td>\n",
       "      <td>no</td>\n",
       "      <td>810.0</td>\n",
       "      <td>6 days</td>\n",
       "      <td>22 days</td>\n",
       "      <td>8</td>\n",
       "      <td>1996</td>\n",
       "    </tr>\n",
       "    <tr>\n",
       "      <th>1</th>\n",
       "      <td>RATTC</td>\n",
       "      <td>10294</td>\n",
       "      <td>1</td>\n",
       "      <td>1</td>\n",
       "      <td>Beverages</td>\n",
       "      <td>Chai</td>\n",
       "      <td>Rattlesnake Canyon Grocery</td>\n",
       "      <td>Albuquerque</td>\n",
       "      <td>USA</td>\n",
       "      <td>1996-08-30</td>\n",
       "      <td>...</td>\n",
       "      <td>1996-09-05</td>\n",
       "      <td>14.4</td>\n",
       "      <td>18</td>\n",
       "      <td>39</td>\n",
       "      <td>no</td>\n",
       "      <td>324.0</td>\n",
       "      <td>6 days</td>\n",
       "      <td>22 days</td>\n",
       "      <td>9</td>\n",
       "      <td>1996</td>\n",
       "    </tr>\n",
       "    <tr>\n",
       "      <th>2</th>\n",
       "      <td>LONEP</td>\n",
       "      <td>10317</td>\n",
       "      <td>1</td>\n",
       "      <td>1</td>\n",
       "      <td>Beverages</td>\n",
       "      <td>Chai</td>\n",
       "      <td>Lonesome Pine Restaurant</td>\n",
       "      <td>Portland</td>\n",
       "      <td>USA</td>\n",
       "      <td>1996-09-30</td>\n",
       "      <td>...</td>\n",
       "      <td>1996-10-10</td>\n",
       "      <td>14.4</td>\n",
       "      <td>20</td>\n",
       "      <td>39</td>\n",
       "      <td>no</td>\n",
       "      <td>360.0</td>\n",
       "      <td>10 days</td>\n",
       "      <td>18 days</td>\n",
       "      <td>10</td>\n",
       "      <td>1996</td>\n",
       "    </tr>\n",
       "    <tr>\n",
       "      <th>3</th>\n",
       "      <td>WANDK</td>\n",
       "      <td>10348</td>\n",
       "      <td>1</td>\n",
       "      <td>1</td>\n",
       "      <td>Beverages</td>\n",
       "      <td>Chai</td>\n",
       "      <td>Die Wandernde Kuh</td>\n",
       "      <td>Stuttgart</td>\n",
       "      <td>Germany</td>\n",
       "      <td>1996-11-07</td>\n",
       "      <td>...</td>\n",
       "      <td>1996-11-15</td>\n",
       "      <td>14.4</td>\n",
       "      <td>15</td>\n",
       "      <td>39</td>\n",
       "      <td>no</td>\n",
       "      <td>270.0</td>\n",
       "      <td>8 days</td>\n",
       "      <td>20 days</td>\n",
       "      <td>11</td>\n",
       "      <td>1996</td>\n",
       "    </tr>\n",
       "    <tr>\n",
       "      <th>4</th>\n",
       "      <td>PERIC</td>\n",
       "      <td>10354</td>\n",
       "      <td>1</td>\n",
       "      <td>1</td>\n",
       "      <td>Beverages</td>\n",
       "      <td>Chai</td>\n",
       "      <td>Pericles Comidas clsicas</td>\n",
       "      <td>Mxico D.F.</td>\n",
       "      <td>Mexico</td>\n",
       "      <td>1996-11-14</td>\n",
       "      <td>...</td>\n",
       "      <td>1996-11-20</td>\n",
       "      <td>14.4</td>\n",
       "      <td>12</td>\n",
       "      <td>39</td>\n",
       "      <td>no</td>\n",
       "      <td>216.0</td>\n",
       "      <td>6 days</td>\n",
       "      <td>22 days</td>\n",
       "      <td>11</td>\n",
       "      <td>1996</td>\n",
       "    </tr>\n",
       "  </tbody>\n",
       "</table>\n",
       "<p>5 rows × 21 columns</p>\n",
       "</div>"
      ],
      "text/plain": [
       "  CustomerID OrderID ProductID CategoryID CategoryName ProductName  \\\n",
       "0      QUICK   10285         1          1    Beverages        Chai   \n",
       "1      RATTC   10294         1          1    Beverages        Chai   \n",
       "2      LONEP   10317         1          1    Beverages        Chai   \n",
       "3      WANDK   10348         1          1    Beverages        Chai   \n",
       "4      PERIC   10354         1          1    Beverages        Chai   \n",
       "\n",
       "                  CompanyName         City  Country Order_Date  ...  \\\n",
       "0                  QUICK-Stop    Cunewalde  Germany 1996-08-20  ...   \n",
       "1  Rattlesnake Canyon Grocery  Albuquerque      USA 1996-08-30  ...   \n",
       "2    Lonesome Pine Restaurant     Portland      USA 1996-09-30  ...   \n",
       "3           Die Wandernde Kuh    Stuttgart  Germany 1996-11-07  ...   \n",
       "4    Pericles Comidas clsicas   Mxico D.F.   Mexico 1996-11-14  ...   \n",
       "\n",
       "  ShippedDate UnitPrice  Quantity  UnitsInStock  Discontinued SaleAmount  \\\n",
       "0  1996-08-26      14.4        45            39            no      810.0   \n",
       "1  1996-09-05      14.4        18            39            no      324.0   \n",
       "2  1996-10-10      14.4        20            39            no      360.0   \n",
       "3  1996-11-15      14.4        15            39            no      270.0   \n",
       "4  1996-11-20      14.4        12            39            no      216.0   \n",
       "\n",
       "   OnProcess DeliveryTime Month  Year  \n",
       "0     6 days      22 days     8  1996  \n",
       "1     6 days      22 days     9  1996  \n",
       "2    10 days      18 days    10  1996  \n",
       "3     8 days      20 days    11  1996  \n",
       "4     6 days      22 days    11  1996  \n",
       "\n",
       "[5 rows x 21 columns]"
      ]
     },
     "execution_count": 47,
     "metadata": {},
     "output_type": "execute_result"
    }
   ],
   "source": [
    "# Total bulan setiap tahun nya\n",
    "tabel_A['Month']= pd.to_datetime(tabel_A['ShippedDate']).dt.month\n",
    "tabel_A['Year']= pd.to_datetime(tabel_A['ShippedDate']).dt.year\n",
    "tabel_A.head()"
   ]
  },
  {
   "cell_type": "code",
   "execution_count": 48,
   "metadata": {},
   "outputs": [
    {
     "name": "stdout",
     "output_type": "stream",
     "text": [
      "Jumlah Bulan di Tahun 1996:  Month    6\n",
      "dtype: int64\n",
      "Jumlah Bulan di Tahun 1997:  Month    12\n",
      "dtype: int64\n",
      "Jumlah Bulan di Tahun 1998:  Month    5\n",
      "dtype: int64\n"
     ]
    }
   ],
   "source": [
    "# Hitung Jumlah Bulan setiap Tahun\n",
    "print('Jumlah Bulan di Tahun 1996: ', tabel_A[tabel_A['Year']==1996][['Month']].nunique())\n",
    "print('Jumlah Bulan di Tahun 1997: ', tabel_A[tabel_A['Year']==1997][['Month']].nunique())\n",
    "print('Jumlah Bulan di Tahun 1998: ', tabel_A[tabel_A['Year']==1998][['Month']].nunique())"
   ]
  },
  {
   "cell_type": "markdown",
   "metadata": {},
   "source": [
    "***\n",
    "# **Statistics**"
   ]
  },
  {
   "cell_type": "markdown",
   "metadata": {},
   "source": [
    "## **Normally Test**\n",
    "### Uji Normalitas pada SaleAmount Setiap Produk"
   ]
  },
  {
   "cell_type": "code",
   "execution_count": 49,
   "metadata": {},
   "outputs": [
    {
     "data": {
      "text/plain": [
       "NormaltestResult(statistic=2617.656200700576, pvalue=0.0)"
      ]
     },
     "execution_count": 49,
     "metadata": {},
     "output_type": "execute_result"
    }
   ],
   "source": [
    "from scipy.stats import normaltest\n",
    "\n",
    "normaltest(tabel_A['SaleAmount'])"
   ]
  },
  {
   "cell_type": "code",
   "execution_count": 50,
   "metadata": {},
   "outputs": [
    {
     "name": "stdout",
     "output_type": "stream",
     "text": [
      "pvalue:0.0, kita TIDAK asumsikan datanya terdistribusi normal\n"
     ]
    }
   ],
   "source": [
    "dp_stat, dp_pval = normaltest(tabel_A['SaleAmount'])\n",
    "\n",
    "if dp_pval > 0.05:\n",
    "    print(f'pvalue:{dp_pval}, kita asumsikan datanya terdistribusi normal')\n",
    "else:\n",
    "    print(f'pvalue:{dp_pval}, kita TIDAK asumsikan datanya terdistribusi normal')"
   ]
  },
  {
   "cell_type": "code",
   "execution_count": 51,
   "metadata": {},
   "outputs": [
    {
     "data": {
      "image/png": "[encoded data removed]",
      "text/plain": [
       "<Figure size 864x576 with 1 Axes>"
      ]
     },
     "metadata": {},
     "output_type": "display_data"
    }
   ],
   "source": [
    "# Distribusi tidak normal (skewed positif) skewed kanan\n",
    "plt.figure(figsize=(12,8))\n",
    "sns.histplot(data= tabel_A, x= 'SaleAmount', binwidth= 500, kde = True)\n",
    "plt.title('Frequency Distribution of SaleAmount', size = 18)\n",
    "plt.show()"
   ]
  },
  {
   "cell_type": "markdown",
   "metadata": {},
   "source": [
    "### Uji Normalitas pada Quantity Setiap Produk"
   ]
  },
  {
   "cell_type": "code",
   "execution_count": 52,
   "metadata": {},
   "outputs": [
    {
     "data": {
      "text/plain": [
       "NormaltestResult(statistic=742.1238134172776, pvalue=7.077200050530613e-162)"
      ]
     },
     "execution_count": 52,
     "metadata": {},
     "output_type": "execute_result"
    }
   ],
   "source": [
    "normaltest(tabel_A['Quantity'])"
   ]
  },
  {
   "cell_type": "code",
   "execution_count": 53,
   "metadata": {},
   "outputs": [
    {
     "name": "stdout",
     "output_type": "stream",
     "text": [
      "pvalue:7.077200050530613e-162, kita TIDAK asumsikan datanya terdistribusi normal\n"
     ]
    }
   ],
   "source": [
    "dp_stat, dp_pval = normaltest(tabel_A['Quantity'])\n",
    "\n",
    "if dp_pval > 0.05:\n",
    "    print(f'pvalue:{dp_pval}, kita asumsikan datanya terdistribusi normal')\n",
    "else:\n",
    "    print(f'pvalue:{dp_pval}, kita TIDAK asumsikan datanya terdistribusi normal')"
   ]
  },
  {
   "cell_type": "code",
   "execution_count": 54,
   "metadata": {},
   "outputs": [
    {
     "data": {
      "image/png": "[encoded data removed]",
      "text/plain": [
       "<Figure size 1152x720 with 1 Axes>"
      ]
     },
     "metadata": {},
     "output_type": "display_data"
    }
   ],
   "source": [
    "# Distribusi tidak normal (skewed positif) skewed kanan\n",
    "plt.figure(figsize=(16,10))\n",
    "sns.histplot(data= tabel_A, x= 'Quantity', binwidth= 10, kde = True)\n",
    "plt.title('Frequency Distribution of Quantity', size = 18)\n",
    "plt.show()"
   ]
  },
  {
   "cell_type": "markdown",
   "metadata": {},
   "source": [
    "## **Kruskal Wallis (Independent)**"
   ]
  },
  {
   "cell_type": "code",
   "execution_count": 55,
   "metadata": {},
   "outputs": [
    {
     "name": "stdout",
     "output_type": "stream",
     "text": [
      "Nilai pvalue:  5.867339004656441e-148\n"
     ]
    }
   ],
   "source": [
    "# Import Library Kruskal Wallis\n",
    "\n",
    "from scipy.stats import kruskal\n",
    "fstat, pvalue = kruskal(*[tabel_A[tabel_A['ProductName'] == i]['SaleAmount'] for i in tabel_A['ProductName'].unique()])\n",
    "print('Nilai pvalue: ', pvalue)"
   ]
  },
  {
   "cell_type": "code",
   "execution_count": 56,
   "metadata": {},
   "outputs": [
    {
     "name": "stdout",
     "output_type": "stream",
     "text": [
      "p-value <= 0.05, reject Ho, Terdapat Perbedaan Nilai Median pada Sale Amount untuk Setiap Produk Yang Ada\n"
     ]
    }
   ],
   "source": [
    "if pvalue > 0.05:\n",
    "    print('P-Value > 0.05, failed to reject Ho, Tidak Terdapat Perbedaan Nilai Median pada Sale Amount untuk Setiap Produk Yang Ada')\n",
    "else:\n",
    "    print('p-value <= 0.05, reject Ho, Terdapat Perbedaan Nilai Median pada Sale Amount untuk Setiap Produk Yang Ada')"
   ]
  },
  {
   "cell_type": "code",
   "execution_count": 57,
   "metadata": {},
   "outputs": [
    {
     "data": {
      "text/plain": [
       "ProductName\n",
       "Alice Mutton                        780.0\n",
       "Aniseed Syrup                       250.0\n",
       "Boston Crab Meat                    368.0\n",
       "Camembert Pierrot                   816.0\n",
       "Carnarvon Tigers                   1250.0\n",
       "                                    ...  \n",
       "Uncle Bob's Organic Dried Pears     600.0\n",
       "Valkoinen suklaa                    390.0\n",
       "Vegie-spread                        878.0\n",
       "Wimmers gute Semmelkndel            731.5\n",
       "Zaanse koeken                       199.5\n",
       "Name: SaleAmount, Length: 77, dtype: float64"
      ]
     },
     "execution_count": 57,
     "metadata": {},
     "output_type": "execute_result"
    }
   ],
   "source": [
    "tabel_A.groupby('ProductName').median()['SaleAmount']"
   ]
  },
  {
   "cell_type": "code",
   "execution_count": 58,
   "metadata": {},
   "outputs": [],
   "source": [
    "# Save to csv\n",
    "tabel_A.to_csv('Northwind.csv', index=False) "
   ]
  }
 ],
 "metadata": {
  "interpreter": {
   "hash": "7eb83dfa995ee1f82cae0ff2589cac4913df73531eb97f1193a02c4db2176e93"
  },
  "kernelspec": {
   "display_name": "Python 3.9.7 ('base')",
   "language": "python",
   "name": "python3"
  },
  "language_info": {
   "codemirror_mode": {
    "name": "ipython",
    "version": 3
   },
   "file_extension": ".py",
   "mimetype": "text/x-python",
   "name": "python",
   "nbconvert_exporter": "python",
   "pygments_lexer": "ipython3",
   "version": "3.9.7"
  },
  "orig_nbformat": 4
 },
 "nbformat": 4,
 "nbformat_minor": 2
}
